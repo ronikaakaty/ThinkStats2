{
 "cells": [
  {
   "cell_type": "code",
   "execution_count": 220,
   "metadata": {},
   "outputs": [],
   "source": [
    "import pandas as pd\n",
    "import numpy as np\n",
    "import thinkplot\n",
    "import thinkstats2\n",
    "from scipy.stats import ttest_1samp\n",
    "from sklearn.linear_model import LinearRegression\n",
    "from matplotlib import pyplot as plt"
   ]
  },
  {
   "cell_type": "code",
   "execution_count": 3,
   "metadata": {},
   "outputs": [
    {
     "data": {
      "text/plain": [
       "'C:\\\\Users\\\\Roni Kaakaty\\\\Downloads\\\\ThinkStats2-master\\\\code'"
      ]
     },
     "execution_count": 3,
     "metadata": {},
     "output_type": "execute_result"
    }
   ],
   "source": [
    "pwd"
   ]
  },
  {
   "cell_type": "code",
   "execution_count": 11,
   "metadata": {},
   "outputs": [],
   "source": [
    "#read excel file\n",
    "\n",
    "df= pd.read_excel('Databall.xlsx', index_col=0)"
   ]
  },
  {
   "cell_type": "code",
   "execution_count": 12,
   "metadata": {},
   "outputs": [
    {
     "data": {
      "text/plain": [
       "<bound method NDFrame.head of             Player Name  Age Position  Annual Salary  Average    OBP    SLG  \\\n",
       "Year                                                                          \n",
       "2015      Jason Heyward   26       RF             23    0.273  0.353  0.417   \n",
       "2015        Chris Davis   29       1B             23    0.248  0.344  0.533   \n",
       "2015       Justin Upton   27       LF             22    0.271  0.350  0.462   \n",
       "2015    Yeonis Cespedes   29       LF             25    0.264  0.317  0.466   \n",
       "2015        Ben Zobrist   34       RF             14    0.272  0.362  0.423   \n",
       "2016      Dexter Fowler   30       RF             17    0.267  0.371  0.419   \n",
       "2016        Ian Desmond   30       CF             14    0.258  0.313  0.496   \n",
       "2016     Carlos Beltran   39       RF             16    0.268  0.325  0.462   \n",
       "2016  Edwin Encarnacion   33       DH             20    0.269  0.361  0.544   \n",
       "2016       Josh Reddick   29       RF             13    0.272  0.331  0.433   \n",
       "2017        Eric Hosmer   27       1B             18    0.294  0.359  0.463   \n",
       "2017      J.D. Martinez   29       LF             22    0.297  0.364  0.587   \n",
       "2017       Lorenzo Cain   31       CF             16    0.298  0.354  0.442   \n",
       "2017     Carlos Santana   31       1B             20    0.250  0.362  0.449   \n",
       "2017          Jay Bruce   30       LF             13    0.243  0.309  0.483   \n",
       "2018       Bryce Harper   25       RF             25    0.270  0.393  0.511   \n",
       "2018      Manny Machado   25       3B             30    0.283  0.340  0.514   \n",
       "2018   Andrew McCutchen   31       CF             17    0.263  0.356  0.447   \n",
       "2018   Michael Brantley   31       LF             16    0.306  0.367  0.464   \n",
       "2018     Josh Donaldson   32       3B             23    0.284  0.387  0.559   \n",
       "2019     Anthony Rendon   29       3B             35    0.309  0.396  0.555   \n",
       "2019     Josh Donaldson   33       3B             23    0.271  0.389  0.543   \n",
       "2019    Yasmani Grandal   30        C             18    0.245  0.346  0.464   \n",
       "2019   Nick Castellanos   27       RF             16    0.286  0.337  0.505   \n",
       "2019      Marcell Ozuna   28       LF             18    0.278  0.343  0.484   \n",
       "\n",
       "      HR   SO  Defensive Runs Saved  WAR  \n",
       "Year                                      \n",
       "2015  13   87                    23    5  \n",
       "2015  42  193                    -5    4  \n",
       "2015  24  151                    -5    3  \n",
       "2015  24  122                   -16    3  \n",
       "2015  14   93                    -5    5  \n",
       "2016  13  129                   -12    3  \n",
       "2016  22  177                    -2    3  \n",
       "2016  21   89                    -7    1  \n",
       "2016  38  106                     0    4  \n",
       "2016  14   61                     5    3  \n",
       "2017  23  115                     0    3  \n",
       "2017  35  145                    -7    4  \n",
       "2017  13   94                    10    5  \n",
       "2017  25  105                     0    2  \n",
       "2017  32  137                     0    2  \n",
       "2018  29  128                    -7    3  \n",
       "2018  36  113                     2    5  \n",
       "2018  24  135                   -12    2  \n",
       "2018  14   54                     3    3  \n",
       "2018  37  121                    -2    6  \n",
       "2019  28   83                     3    6  \n",
       "2019  36  128                     4    6  \n",
       "2019  25  131                     9    3  \n",
       "2019  25  145                   -16    2  \n",
       "2019  30  123                     4    3  >"
      ]
     },
     "execution_count": 12,
     "metadata": {},
     "output_type": "execute_result"
    }
   ],
   "source": [
    "#verify data loaded\n",
    "\n",
    "df.head"
   ]
  },
  {
   "cell_type": "code",
   "execution_count": 33,
   "metadata": {},
   "outputs": [
    {
     "data": {
      "text/plain": [
       "array([[<matplotlib.axes._subplots.AxesSubplot object at 0x000001D2A76AEB50>]],\n",
       "      dtype=object)"
      ]
     },
     "execution_count": 33,
     "metadata": {},
     "output_type": "execute_result"
    },
    {
     "data": {
      "image/png": "[encoded data removed]",
      "text/plain": [
       "<Figure size 432x288 with 1 Axes>"
      ]
     },
     "metadata": {
      "needs_background": "light"
     },
     "output_type": "display_data"
    }
   ],
   "source": [
    "#Variable Histograms\n",
    "\n",
    "df.hist(column='Age', bins=25, rwidth=.90)"
   ]
  },
  {
   "cell_type": "code",
   "execution_count": 30,
   "metadata": {},
   "outputs": [
    {
     "data": {
      "text/plain": [
       "array([[<matplotlib.axes._subplots.AxesSubplot object at 0x000001D2A7249D30>]],\n",
       "      dtype=object)"
      ]
     },
     "execution_count": 30,
     "metadata": {},
     "output_type": "execute_result"
    },
    {
     "data": {
      "image/png": "[encoded data removed]",
      "text/plain": [
       "<Figure size 432x288 with 1 Axes>"
      ]
     },
     "metadata": {
      "needs_background": "light"
     },
     "output_type": "display_data"
    }
   ],
   "source": [
    "df.hist(column='Annual Salary',bins= 25,rwidth=.90)"
   ]
  },
  {
   "cell_type": "code",
   "execution_count": 39,
   "metadata": {},
   "outputs": [
    {
     "data": {
      "text/plain": [
       "array([[<matplotlib.axes._subplots.AxesSubplot object at 0x000001D2A78F8040>]],\n",
       "      dtype=object)"
      ]
     },
     "execution_count": 39,
     "metadata": {},
     "output_type": "execute_result"
    },
    {
     "data": {
      "image/png": "[encoded data removed]",
      "text/plain": [
       "<Figure size 432x288 with 1 Axes>"
      ]
     },
     "metadata": {
      "needs_background": "light"
     },
     "output_type": "display_data"
    }
   ],
   "source": [
    "df.hist(column='Average',bins=25,rwidth=.90)"
   ]
  },
  {
   "cell_type": "code",
   "execution_count": 49,
   "metadata": {},
   "outputs": [
    {
     "data": {
      "text/plain": [
       "array([[<matplotlib.axes._subplots.AxesSubplot object at 0x000001D2A8D553D0>]],\n",
       "      dtype=object)"
      ]
     },
     "execution_count": 49,
     "metadata": {},
     "output_type": "execute_result"
    },
    {
     "data": {
      "image/png": "[encoded data removed]",
      "text/plain": [
       "<Figure size 432x288 with 1 Axes>"
      ]
     },
     "metadata": {
      "needs_background": "light"
     },
     "output_type": "display_data"
    }
   ],
   "source": [
    "df.hist(column='OBP',bins=20,rwidth=.90)"
   ]
  },
  {
   "cell_type": "code",
   "execution_count": 52,
   "metadata": {},
   "outputs": [
    {
     "data": {
      "text/plain": [
       "array([[<matplotlib.axes._subplots.AxesSubplot object at 0x000001D2A8F8F5B0>]],\n",
       "      dtype=object)"
      ]
     },
     "execution_count": 52,
     "metadata": {},
     "output_type": "execute_result"
    },
    {
     "data": {
      "image/png": "[encoded data removed]",
      "text/plain": [
       "<Figure size 432x288 with 1 Axes>"
      ]
     },
     "metadata": {
      "needs_background": "light"
     },
     "output_type": "display_data"
    }
   ],
   "source": [
    "df.hist(column='SLG',bins=20,rwidth=.90)"
   ]
  },
  {
   "cell_type": "code",
   "execution_count": 62,
   "metadata": {},
   "outputs": [
    {
     "data": {
      "text/plain": [
       "array([[<matplotlib.axes._subplots.AxesSubplot object at 0x000001D2A94B60A0>]],\n",
       "      dtype=object)"
      ]
     },
     "execution_count": 62,
     "metadata": {},
     "output_type": "execute_result"
    },
    {
     "data": {
      "image/png": "[encoded data removed]",
      "text/plain": [
       "<Figure size 432x288 with 1 Axes>"
      ]
     },
     "metadata": {
      "needs_background": "light"
     },
     "output_type": "display_data"
    }
   ],
   "source": [
    "df.hist(column='HR',bins=25,rwidth=.90)"
   ]
  },
  {
   "cell_type": "code",
   "execution_count": 59,
   "metadata": {},
   "outputs": [
    {
     "data": {
      "text/plain": [
       "array([[<matplotlib.axes._subplots.AxesSubplot object at 0x000001D2A92F4730>]],\n",
       "      dtype=object)"
      ]
     },
     "execution_count": 59,
     "metadata": {},
     "output_type": "execute_result"
    },
    {
     "data": {
      "image/png": "[encoded data removed]",
      "text/plain": [
       "<Figure size 432x288 with 1 Axes>"
      ]
     },
     "metadata": {
      "needs_background": "light"
     },
     "output_type": "display_data"
    }
   ],
   "source": [
    "df.hist(column='SO',bins=25,rwidth=.90)"
   ]
  },
  {
   "cell_type": "code",
   "execution_count": 65,
   "metadata": {},
   "outputs": [
    {
     "data": {
      "text/plain": [
       "array([[<matplotlib.axes._subplots.AxesSubplot object at 0x000001D2A969ECA0>]],\n",
       "      dtype=object)"
      ]
     },
     "execution_count": 65,
     "metadata": {},
     "output_type": "execute_result"
    },
    {
     "data": {
      "image/png": "[encoded data removed]",
      "text/plain": [
       "<Figure size 432x288 with 1 Axes>"
      ]
     },
     "metadata": {
      "needs_background": "light"
     },
     "output_type": "display_data"
    }
   ],
   "source": [
    "df.hist(column='Defensive Runs Saved',bins=25,rwidth=.90)"
   ]
  },
  {
   "cell_type": "code",
   "execution_count": 70,
   "metadata": {},
   "outputs": [
    {
     "data": {
      "text/plain": [
       "array([[<matplotlib.axes._subplots.AxesSubplot object at 0x000001D2AA8EB8E0>]],\n",
       "      dtype=object)"
      ]
     },
     "execution_count": 70,
     "metadata": {},
     "output_type": "execute_result"
    },
    {
     "data": {
      "image/png": "[encoded data removed]",
      "text/plain": [
       "<Figure size 432x288 with 1 Axes>"
      ]
     },
     "metadata": {
      "needs_background": "light"
     },
     "output_type": "display_data"
    }
   ],
   "source": [
    "df.hist(column='WAR',rwidth=.90)"
   ]
  },
  {
   "cell_type": "code",
   "execution_count": 85,
   "metadata": {},
   "outputs": [
    {
     "data": {
      "text/html": [
       "<div>\n",
       "<style scoped>\n",
       "    .dataframe tbody tr th:only-of-type {\n",
       "        vertical-align: middle;\n",
       "    }\n",
       "\n",
       "    .dataframe tbody tr th {\n",
       "        vertical-align: top;\n",
       "    }\n",
       "\n",
       "    .dataframe thead th {\n",
       "        text-align: right;\n",
       "    }\n",
       "</style>\n",
       "<table border=\"1\" class=\"dataframe\">\n",
       "  <thead>\n",
       "    <tr style=\"text-align: right;\">\n",
       "      <th></th>\n",
       "      <th>Player Name</th>\n",
       "      <th>Age</th>\n",
       "      <th>Position</th>\n",
       "      <th>Annual Salary</th>\n",
       "      <th>Average</th>\n",
       "      <th>OBP</th>\n",
       "      <th>SLG</th>\n",
       "      <th>HR</th>\n",
       "      <th>SO</th>\n",
       "      <th>Defensive Runs Saved</th>\n",
       "      <th>WAR</th>\n",
       "    </tr>\n",
       "    <tr>\n",
       "      <th>Year</th>\n",
       "      <th></th>\n",
       "      <th></th>\n",
       "      <th></th>\n",
       "      <th></th>\n",
       "      <th></th>\n",
       "      <th></th>\n",
       "      <th></th>\n",
       "      <th></th>\n",
       "      <th></th>\n",
       "      <th></th>\n",
       "      <th></th>\n",
       "    </tr>\n",
       "  </thead>\n",
       "  <tbody>\n",
       "    <tr>\n",
       "      <th>2016</th>\n",
       "      <td>Carlos Beltran</td>\n",
       "      <td>39</td>\n",
       "      <td>RF</td>\n",
       "      <td>16</td>\n",
       "      <td>0.268</td>\n",
       "      <td>0.325</td>\n",
       "      <td>0.462</td>\n",
       "      <td>21</td>\n",
       "      <td>89</td>\n",
       "      <td>-7</td>\n",
       "      <td>1</td>\n",
       "    </tr>\n",
       "    <tr>\n",
       "      <th>2015</th>\n",
       "      <td>Ben Zobrist</td>\n",
       "      <td>34</td>\n",
       "      <td>RF</td>\n",
       "      <td>14</td>\n",
       "      <td>0.272</td>\n",
       "      <td>0.362</td>\n",
       "      <td>0.423</td>\n",
       "      <td>14</td>\n",
       "      <td>93</td>\n",
       "      <td>-5</td>\n",
       "      <td>5</td>\n",
       "    </tr>\n",
       "    <tr>\n",
       "      <th>2016</th>\n",
       "      <td>Edwin Encarnacion</td>\n",
       "      <td>33</td>\n",
       "      <td>DH</td>\n",
       "      <td>20</td>\n",
       "      <td>0.269</td>\n",
       "      <td>0.361</td>\n",
       "      <td>0.544</td>\n",
       "      <td>38</td>\n",
       "      <td>106</td>\n",
       "      <td>0</td>\n",
       "      <td>4</td>\n",
       "    </tr>\n",
       "    <tr>\n",
       "      <th>2019</th>\n",
       "      <td>Josh Donaldson</td>\n",
       "      <td>33</td>\n",
       "      <td>3B</td>\n",
       "      <td>23</td>\n",
       "      <td>0.271</td>\n",
       "      <td>0.389</td>\n",
       "      <td>0.543</td>\n",
       "      <td>36</td>\n",
       "      <td>128</td>\n",
       "      <td>4</td>\n",
       "      <td>6</td>\n",
       "    </tr>\n",
       "    <tr>\n",
       "      <th>2018</th>\n",
       "      <td>Josh Donaldson</td>\n",
       "      <td>32</td>\n",
       "      <td>3B</td>\n",
       "      <td>23</td>\n",
       "      <td>0.284</td>\n",
       "      <td>0.387</td>\n",
       "      <td>0.559</td>\n",
       "      <td>37</td>\n",
       "      <td>121</td>\n",
       "      <td>-2</td>\n",
       "      <td>6</td>\n",
       "    </tr>\n",
       "  </tbody>\n",
       "</table>\n",
       "</div>"
      ],
      "text/plain": [
       "            Player Name  Age Position  Annual Salary  Average    OBP    SLG  \\\n",
       "Year                                                                          \n",
       "2016     Carlos Beltran   39       RF             16    0.268  0.325  0.462   \n",
       "2015        Ben Zobrist   34       RF             14    0.272  0.362  0.423   \n",
       "2016  Edwin Encarnacion   33       DH             20    0.269  0.361  0.544   \n",
       "2019     Josh Donaldson   33       3B             23    0.271  0.389  0.543   \n",
       "2018     Josh Donaldson   32       3B             23    0.284  0.387  0.559   \n",
       "\n",
       "      HR   SO  Defensive Runs Saved  WAR  \n",
       "Year                                      \n",
       "2016  21   89                    -7    1  \n",
       "2015  14   93                    -5    5  \n",
       "2016  38  106                     0    4  \n",
       "2019  36  128                     4    6  \n",
       "2018  37  121                    -2    6  "
      ]
     },
     "execution_count": 85,
     "metadata": {},
     "output_type": "execute_result"
    }
   ],
   "source": [
    "#Identify largest value to check outliers\n",
    "\n",
    "df.nlargest(5,['Age'])"
   ]
  },
  {
   "cell_type": "code",
   "execution_count": 86,
   "metadata": {},
   "outputs": [
    {
     "data": {
      "text/html": [
       "<div>\n",
       "<style scoped>\n",
       "    .dataframe tbody tr th:only-of-type {\n",
       "        vertical-align: middle;\n",
       "    }\n",
       "\n",
       "    .dataframe tbody tr th {\n",
       "        vertical-align: top;\n",
       "    }\n",
       "\n",
       "    .dataframe thead th {\n",
       "        text-align: right;\n",
       "    }\n",
       "</style>\n",
       "<table border=\"1\" class=\"dataframe\">\n",
       "  <thead>\n",
       "    <tr style=\"text-align: right;\">\n",
       "      <th></th>\n",
       "      <th>Player Name</th>\n",
       "      <th>Age</th>\n",
       "      <th>Position</th>\n",
       "      <th>Annual Salary</th>\n",
       "      <th>Average</th>\n",
       "      <th>OBP</th>\n",
       "      <th>SLG</th>\n",
       "      <th>HR</th>\n",
       "      <th>SO</th>\n",
       "      <th>Defensive Runs Saved</th>\n",
       "      <th>WAR</th>\n",
       "    </tr>\n",
       "    <tr>\n",
       "      <th>Year</th>\n",
       "      <th></th>\n",
       "      <th></th>\n",
       "      <th></th>\n",
       "      <th></th>\n",
       "      <th></th>\n",
       "      <th></th>\n",
       "      <th></th>\n",
       "      <th></th>\n",
       "      <th></th>\n",
       "      <th></th>\n",
       "      <th></th>\n",
       "    </tr>\n",
       "  </thead>\n",
       "  <tbody>\n",
       "    <tr>\n",
       "      <th>2018</th>\n",
       "      <td>Bryce Harper</td>\n",
       "      <td>25</td>\n",
       "      <td>RF</td>\n",
       "      <td>25</td>\n",
       "      <td>0.270</td>\n",
       "      <td>0.393</td>\n",
       "      <td>0.511</td>\n",
       "      <td>29</td>\n",
       "      <td>128</td>\n",
       "      <td>-7</td>\n",
       "      <td>3</td>\n",
       "    </tr>\n",
       "    <tr>\n",
       "      <th>2018</th>\n",
       "      <td>Manny Machado</td>\n",
       "      <td>25</td>\n",
       "      <td>3B</td>\n",
       "      <td>30</td>\n",
       "      <td>0.283</td>\n",
       "      <td>0.340</td>\n",
       "      <td>0.514</td>\n",
       "      <td>36</td>\n",
       "      <td>113</td>\n",
       "      <td>2</td>\n",
       "      <td>5</td>\n",
       "    </tr>\n",
       "    <tr>\n",
       "      <th>2015</th>\n",
       "      <td>Jason Heyward</td>\n",
       "      <td>26</td>\n",
       "      <td>RF</td>\n",
       "      <td>23</td>\n",
       "      <td>0.273</td>\n",
       "      <td>0.353</td>\n",
       "      <td>0.417</td>\n",
       "      <td>13</td>\n",
       "      <td>87</td>\n",
       "      <td>23</td>\n",
       "      <td>5</td>\n",
       "    </tr>\n",
       "    <tr>\n",
       "      <th>2015</th>\n",
       "      <td>Justin Upton</td>\n",
       "      <td>27</td>\n",
       "      <td>LF</td>\n",
       "      <td>22</td>\n",
       "      <td>0.271</td>\n",
       "      <td>0.350</td>\n",
       "      <td>0.462</td>\n",
       "      <td>24</td>\n",
       "      <td>151</td>\n",
       "      <td>-5</td>\n",
       "      <td>3</td>\n",
       "    </tr>\n",
       "    <tr>\n",
       "      <th>2017</th>\n",
       "      <td>Eric Hosmer</td>\n",
       "      <td>27</td>\n",
       "      <td>1B</td>\n",
       "      <td>18</td>\n",
       "      <td>0.294</td>\n",
       "      <td>0.359</td>\n",
       "      <td>0.463</td>\n",
       "      <td>23</td>\n",
       "      <td>115</td>\n",
       "      <td>0</td>\n",
       "      <td>3</td>\n",
       "    </tr>\n",
       "  </tbody>\n",
       "</table>\n",
       "</div>"
      ],
      "text/plain": [
       "        Player Name  Age Position  Annual Salary  Average    OBP    SLG  HR  \\\n",
       "Year                                                                          \n",
       "2018   Bryce Harper   25       RF             25    0.270  0.393  0.511  29   \n",
       "2018  Manny Machado   25       3B             30    0.283  0.340  0.514  36   \n",
       "2015  Jason Heyward   26       RF             23    0.273  0.353  0.417  13   \n",
       "2015   Justin Upton   27       LF             22    0.271  0.350  0.462  24   \n",
       "2017    Eric Hosmer   27       1B             18    0.294  0.359  0.463  23   \n",
       "\n",
       "       SO  Defensive Runs Saved  WAR  \n",
       "Year                                  \n",
       "2018  128                    -7    3  \n",
       "2018  113                     2    5  \n",
       "2015   87                    23    5  \n",
       "2015  151                    -5    3  \n",
       "2017  115                     0    3  "
      ]
     },
     "execution_count": 86,
     "metadata": {},
     "output_type": "execute_result"
    }
   ],
   "source": [
    "#Identify smallest values to check outliers\n",
    "\n",
    "df.nsmallest(5,['Age'])"
   ]
  },
  {
   "cell_type": "code",
   "execution_count": 87,
   "metadata": {},
   "outputs": [
    {
     "data": {
      "text/html": [
       "<div>\n",
       "<style scoped>\n",
       "    .dataframe tbody tr th:only-of-type {\n",
       "        vertical-align: middle;\n",
       "    }\n",
       "\n",
       "    .dataframe tbody tr th {\n",
       "        vertical-align: top;\n",
       "    }\n",
       "\n",
       "    .dataframe thead th {\n",
       "        text-align: right;\n",
       "    }\n",
       "</style>\n",
       "<table border=\"1\" class=\"dataframe\">\n",
       "  <thead>\n",
       "    <tr style=\"text-align: right;\">\n",
       "      <th></th>\n",
       "      <th>Player Name</th>\n",
       "      <th>Age</th>\n",
       "      <th>Position</th>\n",
       "      <th>Annual Salary</th>\n",
       "      <th>Average</th>\n",
       "      <th>OBP</th>\n",
       "      <th>SLG</th>\n",
       "      <th>HR</th>\n",
       "      <th>SO</th>\n",
       "      <th>Defensive Runs Saved</th>\n",
       "      <th>WAR</th>\n",
       "    </tr>\n",
       "    <tr>\n",
       "      <th>Year</th>\n",
       "      <th></th>\n",
       "      <th></th>\n",
       "      <th></th>\n",
       "      <th></th>\n",
       "      <th></th>\n",
       "      <th></th>\n",
       "      <th></th>\n",
       "      <th></th>\n",
       "      <th></th>\n",
       "      <th></th>\n",
       "      <th></th>\n",
       "    </tr>\n",
       "  </thead>\n",
       "  <tbody>\n",
       "    <tr>\n",
       "      <th>2015</th>\n",
       "      <td>Chris Davis</td>\n",
       "      <td>29</td>\n",
       "      <td>1B</td>\n",
       "      <td>23</td>\n",
       "      <td>0.248</td>\n",
       "      <td>0.344</td>\n",
       "      <td>0.533</td>\n",
       "      <td>42</td>\n",
       "      <td>193</td>\n",
       "      <td>-5</td>\n",
       "      <td>4</td>\n",
       "    </tr>\n",
       "    <tr>\n",
       "      <th>2016</th>\n",
       "      <td>Ian Desmond</td>\n",
       "      <td>30</td>\n",
       "      <td>CF</td>\n",
       "      <td>14</td>\n",
       "      <td>0.258</td>\n",
       "      <td>0.313</td>\n",
       "      <td>0.496</td>\n",
       "      <td>22</td>\n",
       "      <td>177</td>\n",
       "      <td>-2</td>\n",
       "      <td>3</td>\n",
       "    </tr>\n",
       "    <tr>\n",
       "      <th>2015</th>\n",
       "      <td>Justin Upton</td>\n",
       "      <td>27</td>\n",
       "      <td>LF</td>\n",
       "      <td>22</td>\n",
       "      <td>0.271</td>\n",
       "      <td>0.350</td>\n",
       "      <td>0.462</td>\n",
       "      <td>24</td>\n",
       "      <td>151</td>\n",
       "      <td>-5</td>\n",
       "      <td>3</td>\n",
       "    </tr>\n",
       "    <tr>\n",
       "      <th>2017</th>\n",
       "      <td>J.D. Martinez</td>\n",
       "      <td>29</td>\n",
       "      <td>LF</td>\n",
       "      <td>22</td>\n",
       "      <td>0.297</td>\n",
       "      <td>0.364</td>\n",
       "      <td>0.587</td>\n",
       "      <td>35</td>\n",
       "      <td>145</td>\n",
       "      <td>-7</td>\n",
       "      <td>4</td>\n",
       "    </tr>\n",
       "    <tr>\n",
       "      <th>2019</th>\n",
       "      <td>Nick Castellanos</td>\n",
       "      <td>27</td>\n",
       "      <td>RF</td>\n",
       "      <td>16</td>\n",
       "      <td>0.286</td>\n",
       "      <td>0.337</td>\n",
       "      <td>0.505</td>\n",
       "      <td>25</td>\n",
       "      <td>145</td>\n",
       "      <td>-16</td>\n",
       "      <td>2</td>\n",
       "    </tr>\n",
       "  </tbody>\n",
       "</table>\n",
       "</div>"
      ],
      "text/plain": [
       "           Player Name  Age Position  Annual Salary  Average    OBP    SLG  \\\n",
       "Year                                                                         \n",
       "2015       Chris Davis   29       1B             23    0.248  0.344  0.533   \n",
       "2016       Ian Desmond   30       CF             14    0.258  0.313  0.496   \n",
       "2015      Justin Upton   27       LF             22    0.271  0.350  0.462   \n",
       "2017     J.D. Martinez   29       LF             22    0.297  0.364  0.587   \n",
       "2019  Nick Castellanos   27       RF             16    0.286  0.337  0.505   \n",
       "\n",
       "      HR   SO  Defensive Runs Saved  WAR  \n",
       "Year                                      \n",
       "2015  42  193                    -5    4  \n",
       "2016  22  177                    -2    3  \n",
       "2015  24  151                    -5    3  \n",
       "2017  35  145                    -7    4  \n",
       "2019  25  145                   -16    2  "
      ]
     },
     "execution_count": 87,
     "metadata": {},
     "output_type": "execute_result"
    }
   ],
   "source": [
    "df.nlargest(5,['SO'])"
   ]
  },
  {
   "cell_type": "code",
   "execution_count": 88,
   "metadata": {},
   "outputs": [
    {
     "data": {
      "text/html": [
       "<div>\n",
       "<style scoped>\n",
       "    .dataframe tbody tr th:only-of-type {\n",
       "        vertical-align: middle;\n",
       "    }\n",
       "\n",
       "    .dataframe tbody tr th {\n",
       "        vertical-align: top;\n",
       "    }\n",
       "\n",
       "    .dataframe thead th {\n",
       "        text-align: right;\n",
       "    }\n",
       "</style>\n",
       "<table border=\"1\" class=\"dataframe\">\n",
       "  <thead>\n",
       "    <tr style=\"text-align: right;\">\n",
       "      <th></th>\n",
       "      <th>Player Name</th>\n",
       "      <th>Age</th>\n",
       "      <th>Position</th>\n",
       "      <th>Annual Salary</th>\n",
       "      <th>Average</th>\n",
       "      <th>OBP</th>\n",
       "      <th>SLG</th>\n",
       "      <th>HR</th>\n",
       "      <th>SO</th>\n",
       "      <th>Defensive Runs Saved</th>\n",
       "      <th>WAR</th>\n",
       "    </tr>\n",
       "    <tr>\n",
       "      <th>Year</th>\n",
       "      <th></th>\n",
       "      <th></th>\n",
       "      <th></th>\n",
       "      <th></th>\n",
       "      <th></th>\n",
       "      <th></th>\n",
       "      <th></th>\n",
       "      <th></th>\n",
       "      <th></th>\n",
       "      <th></th>\n",
       "      <th></th>\n",
       "    </tr>\n",
       "  </thead>\n",
       "  <tbody>\n",
       "    <tr>\n",
       "      <th>2018</th>\n",
       "      <td>Michael Brantley</td>\n",
       "      <td>31</td>\n",
       "      <td>LF</td>\n",
       "      <td>16</td>\n",
       "      <td>0.306</td>\n",
       "      <td>0.367</td>\n",
       "      <td>0.464</td>\n",
       "      <td>14</td>\n",
       "      <td>54</td>\n",
       "      <td>3</td>\n",
       "      <td>3</td>\n",
       "    </tr>\n",
       "    <tr>\n",
       "      <th>2016</th>\n",
       "      <td>Josh Reddick</td>\n",
       "      <td>29</td>\n",
       "      <td>RF</td>\n",
       "      <td>13</td>\n",
       "      <td>0.272</td>\n",
       "      <td>0.331</td>\n",
       "      <td>0.433</td>\n",
       "      <td>14</td>\n",
       "      <td>61</td>\n",
       "      <td>5</td>\n",
       "      <td>3</td>\n",
       "    </tr>\n",
       "    <tr>\n",
       "      <th>2019</th>\n",
       "      <td>Anthony Rendon</td>\n",
       "      <td>29</td>\n",
       "      <td>3B</td>\n",
       "      <td>35</td>\n",
       "      <td>0.309</td>\n",
       "      <td>0.396</td>\n",
       "      <td>0.555</td>\n",
       "      <td>28</td>\n",
       "      <td>83</td>\n",
       "      <td>3</td>\n",
       "      <td>6</td>\n",
       "    </tr>\n",
       "    <tr>\n",
       "      <th>2015</th>\n",
       "      <td>Jason Heyward</td>\n",
       "      <td>26</td>\n",
       "      <td>RF</td>\n",
       "      <td>23</td>\n",
       "      <td>0.273</td>\n",
       "      <td>0.353</td>\n",
       "      <td>0.417</td>\n",
       "      <td>13</td>\n",
       "      <td>87</td>\n",
       "      <td>23</td>\n",
       "      <td>5</td>\n",
       "    </tr>\n",
       "    <tr>\n",
       "      <th>2016</th>\n",
       "      <td>Carlos Beltran</td>\n",
       "      <td>39</td>\n",
       "      <td>RF</td>\n",
       "      <td>16</td>\n",
       "      <td>0.268</td>\n",
       "      <td>0.325</td>\n",
       "      <td>0.462</td>\n",
       "      <td>21</td>\n",
       "      <td>89</td>\n",
       "      <td>-7</td>\n",
       "      <td>1</td>\n",
       "    </tr>\n",
       "  </tbody>\n",
       "</table>\n",
       "</div>"
      ],
      "text/plain": [
       "           Player Name  Age Position  Annual Salary  Average    OBP    SLG  \\\n",
       "Year                                                                         \n",
       "2018  Michael Brantley   31       LF             16    0.306  0.367  0.464   \n",
       "2016      Josh Reddick   29       RF             13    0.272  0.331  0.433   \n",
       "2019    Anthony Rendon   29       3B             35    0.309  0.396  0.555   \n",
       "2015     Jason Heyward   26       RF             23    0.273  0.353  0.417   \n",
       "2016    Carlos Beltran   39       RF             16    0.268  0.325  0.462   \n",
       "\n",
       "      HR  SO  Defensive Runs Saved  WAR  \n",
       "Year                                     \n",
       "2018  14  54                     3    3  \n",
       "2016  14  61                     5    3  \n",
       "2019  28  83                     3    6  \n",
       "2015  13  87                    23    5  \n",
       "2016  21  89                    -7    1  "
      ]
     },
     "execution_count": 88,
     "metadata": {},
     "output_type": "execute_result"
    }
   ],
   "source": [
    "df.nsmallest(5,['SO'])"
   ]
  },
  {
   "cell_type": "code",
   "execution_count": 89,
   "metadata": {},
   "outputs": [
    {
     "data": {
      "text/html": [
       "<div>\n",
       "<style scoped>\n",
       "    .dataframe tbody tr th:only-of-type {\n",
       "        vertical-align: middle;\n",
       "    }\n",
       "\n",
       "    .dataframe tbody tr th {\n",
       "        vertical-align: top;\n",
       "    }\n",
       "\n",
       "    .dataframe thead th {\n",
       "        text-align: right;\n",
       "    }\n",
       "</style>\n",
       "<table border=\"1\" class=\"dataframe\">\n",
       "  <thead>\n",
       "    <tr style=\"text-align: right;\">\n",
       "      <th></th>\n",
       "      <th>Player Name</th>\n",
       "      <th>Age</th>\n",
       "      <th>Position</th>\n",
       "      <th>Annual Salary</th>\n",
       "      <th>Average</th>\n",
       "      <th>OBP</th>\n",
       "      <th>SLG</th>\n",
       "      <th>HR</th>\n",
       "      <th>SO</th>\n",
       "      <th>Defensive Runs Saved</th>\n",
       "      <th>WAR</th>\n",
       "    </tr>\n",
       "    <tr>\n",
       "      <th>Year</th>\n",
       "      <th></th>\n",
       "      <th></th>\n",
       "      <th></th>\n",
       "      <th></th>\n",
       "      <th></th>\n",
       "      <th></th>\n",
       "      <th></th>\n",
       "      <th></th>\n",
       "      <th></th>\n",
       "      <th></th>\n",
       "      <th></th>\n",
       "    </tr>\n",
       "  </thead>\n",
       "  <tbody>\n",
       "    <tr>\n",
       "      <th>2018</th>\n",
       "      <td>Josh Donaldson</td>\n",
       "      <td>32</td>\n",
       "      <td>3B</td>\n",
       "      <td>23</td>\n",
       "      <td>0.284</td>\n",
       "      <td>0.387</td>\n",
       "      <td>0.559</td>\n",
       "      <td>37</td>\n",
       "      <td>121</td>\n",
       "      <td>-2</td>\n",
       "      <td>6</td>\n",
       "    </tr>\n",
       "    <tr>\n",
       "      <th>2019</th>\n",
       "      <td>Anthony Rendon</td>\n",
       "      <td>29</td>\n",
       "      <td>3B</td>\n",
       "      <td>35</td>\n",
       "      <td>0.309</td>\n",
       "      <td>0.396</td>\n",
       "      <td>0.555</td>\n",
       "      <td>28</td>\n",
       "      <td>83</td>\n",
       "      <td>3</td>\n",
       "      <td>6</td>\n",
       "    </tr>\n",
       "    <tr>\n",
       "      <th>2019</th>\n",
       "      <td>Josh Donaldson</td>\n",
       "      <td>33</td>\n",
       "      <td>3B</td>\n",
       "      <td>23</td>\n",
       "      <td>0.271</td>\n",
       "      <td>0.389</td>\n",
       "      <td>0.543</td>\n",
       "      <td>36</td>\n",
       "      <td>128</td>\n",
       "      <td>4</td>\n",
       "      <td>6</td>\n",
       "    </tr>\n",
       "    <tr>\n",
       "      <th>2015</th>\n",
       "      <td>Jason Heyward</td>\n",
       "      <td>26</td>\n",
       "      <td>RF</td>\n",
       "      <td>23</td>\n",
       "      <td>0.273</td>\n",
       "      <td>0.353</td>\n",
       "      <td>0.417</td>\n",
       "      <td>13</td>\n",
       "      <td>87</td>\n",
       "      <td>23</td>\n",
       "      <td>5</td>\n",
       "    </tr>\n",
       "    <tr>\n",
       "      <th>2015</th>\n",
       "      <td>Ben Zobrist</td>\n",
       "      <td>34</td>\n",
       "      <td>RF</td>\n",
       "      <td>14</td>\n",
       "      <td>0.272</td>\n",
       "      <td>0.362</td>\n",
       "      <td>0.423</td>\n",
       "      <td>14</td>\n",
       "      <td>93</td>\n",
       "      <td>-5</td>\n",
       "      <td>5</td>\n",
       "    </tr>\n",
       "  </tbody>\n",
       "</table>\n",
       "</div>"
      ],
      "text/plain": [
       "         Player Name  Age Position  Annual Salary  Average    OBP    SLG  HR  \\\n",
       "Year                                                                           \n",
       "2018  Josh Donaldson   32       3B             23    0.284  0.387  0.559  37   \n",
       "2019  Anthony Rendon   29       3B             35    0.309  0.396  0.555  28   \n",
       "2019  Josh Donaldson   33       3B             23    0.271  0.389  0.543  36   \n",
       "2015   Jason Heyward   26       RF             23    0.273  0.353  0.417  13   \n",
       "2015     Ben Zobrist   34       RF             14    0.272  0.362  0.423  14   \n",
       "\n",
       "       SO  Defensive Runs Saved  WAR  \n",
       "Year                                  \n",
       "2018  121                    -2    6  \n",
       "2019   83                     3    6  \n",
       "2019  128                     4    6  \n",
       "2015   87                    23    5  \n",
       "2015   93                    -5    5  "
      ]
     },
     "execution_count": 89,
     "metadata": {},
     "output_type": "execute_result"
    }
   ],
   "source": [
    "df.nlargest(5,['WAR'])"
   ]
  },
  {
   "cell_type": "code",
   "execution_count": 90,
   "metadata": {},
   "outputs": [
    {
     "data": {
      "text/html": [
       "<div>\n",
       "<style scoped>\n",
       "    .dataframe tbody tr th:only-of-type {\n",
       "        vertical-align: middle;\n",
       "    }\n",
       "\n",
       "    .dataframe tbody tr th {\n",
       "        vertical-align: top;\n",
       "    }\n",
       "\n",
       "    .dataframe thead th {\n",
       "        text-align: right;\n",
       "    }\n",
       "</style>\n",
       "<table border=\"1\" class=\"dataframe\">\n",
       "  <thead>\n",
       "    <tr style=\"text-align: right;\">\n",
       "      <th></th>\n",
       "      <th>Player Name</th>\n",
       "      <th>Age</th>\n",
       "      <th>Position</th>\n",
       "      <th>Annual Salary</th>\n",
       "      <th>Average</th>\n",
       "      <th>OBP</th>\n",
       "      <th>SLG</th>\n",
       "      <th>HR</th>\n",
       "      <th>SO</th>\n",
       "      <th>Defensive Runs Saved</th>\n",
       "      <th>WAR</th>\n",
       "    </tr>\n",
       "    <tr>\n",
       "      <th>Year</th>\n",
       "      <th></th>\n",
       "      <th></th>\n",
       "      <th></th>\n",
       "      <th></th>\n",
       "      <th></th>\n",
       "      <th></th>\n",
       "      <th></th>\n",
       "      <th></th>\n",
       "      <th></th>\n",
       "      <th></th>\n",
       "      <th></th>\n",
       "    </tr>\n",
       "  </thead>\n",
       "  <tbody>\n",
       "    <tr>\n",
       "      <th>2016</th>\n",
       "      <td>Carlos Beltran</td>\n",
       "      <td>39</td>\n",
       "      <td>RF</td>\n",
       "      <td>16</td>\n",
       "      <td>0.268</td>\n",
       "      <td>0.325</td>\n",
       "      <td>0.462</td>\n",
       "      <td>21</td>\n",
       "      <td>89</td>\n",
       "      <td>-7</td>\n",
       "      <td>1</td>\n",
       "    </tr>\n",
       "    <tr>\n",
       "      <th>2017</th>\n",
       "      <td>Carlos Santana</td>\n",
       "      <td>31</td>\n",
       "      <td>1B</td>\n",
       "      <td>20</td>\n",
       "      <td>0.250</td>\n",
       "      <td>0.362</td>\n",
       "      <td>0.449</td>\n",
       "      <td>25</td>\n",
       "      <td>105</td>\n",
       "      <td>0</td>\n",
       "      <td>2</td>\n",
       "    </tr>\n",
       "    <tr>\n",
       "      <th>2017</th>\n",
       "      <td>Jay Bruce</td>\n",
       "      <td>30</td>\n",
       "      <td>LF</td>\n",
       "      <td>13</td>\n",
       "      <td>0.243</td>\n",
       "      <td>0.309</td>\n",
       "      <td>0.483</td>\n",
       "      <td>32</td>\n",
       "      <td>137</td>\n",
       "      <td>0</td>\n",
       "      <td>2</td>\n",
       "    </tr>\n",
       "    <tr>\n",
       "      <th>2018</th>\n",
       "      <td>Andrew McCutchen</td>\n",
       "      <td>31</td>\n",
       "      <td>CF</td>\n",
       "      <td>17</td>\n",
       "      <td>0.263</td>\n",
       "      <td>0.356</td>\n",
       "      <td>0.447</td>\n",
       "      <td>24</td>\n",
       "      <td>135</td>\n",
       "      <td>-12</td>\n",
       "      <td>2</td>\n",
       "    </tr>\n",
       "    <tr>\n",
       "      <th>2019</th>\n",
       "      <td>Nick Castellanos</td>\n",
       "      <td>27</td>\n",
       "      <td>RF</td>\n",
       "      <td>16</td>\n",
       "      <td>0.286</td>\n",
       "      <td>0.337</td>\n",
       "      <td>0.505</td>\n",
       "      <td>25</td>\n",
       "      <td>145</td>\n",
       "      <td>-16</td>\n",
       "      <td>2</td>\n",
       "    </tr>\n",
       "  </tbody>\n",
       "</table>\n",
       "</div>"
      ],
      "text/plain": [
       "           Player Name  Age Position  Annual Salary  Average    OBP    SLG  \\\n",
       "Year                                                                         \n",
       "2016    Carlos Beltran   39       RF             16    0.268  0.325  0.462   \n",
       "2017    Carlos Santana   31       1B             20    0.250  0.362  0.449   \n",
       "2017         Jay Bruce   30       LF             13    0.243  0.309  0.483   \n",
       "2018  Andrew McCutchen   31       CF             17    0.263  0.356  0.447   \n",
       "2019  Nick Castellanos   27       RF             16    0.286  0.337  0.505   \n",
       "\n",
       "      HR   SO  Defensive Runs Saved  WAR  \n",
       "Year                                      \n",
       "2016  21   89                    -7    1  \n",
       "2017  25  105                     0    2  \n",
       "2017  32  137                     0    2  \n",
       "2018  24  135                   -12    2  \n",
       "2019  25  145                   -16    2  "
      ]
     },
     "execution_count": 90,
     "metadata": {},
     "output_type": "execute_result"
    }
   ],
   "source": [
    "df.nsmallest(5,['WAR'])"
   ]
  },
  {
   "cell_type": "code",
   "execution_count": 91,
   "metadata": {},
   "outputs": [
    {
     "data": {
      "text/html": [
       "<div>\n",
       "<style scoped>\n",
       "    .dataframe tbody tr th:only-of-type {\n",
       "        vertical-align: middle;\n",
       "    }\n",
       "\n",
       "    .dataframe tbody tr th {\n",
       "        vertical-align: top;\n",
       "    }\n",
       "\n",
       "    .dataframe thead th {\n",
       "        text-align: right;\n",
       "    }\n",
       "</style>\n",
       "<table border=\"1\" class=\"dataframe\">\n",
       "  <thead>\n",
       "    <tr style=\"text-align: right;\">\n",
       "      <th></th>\n",
       "      <th>Player Name</th>\n",
       "      <th>Age</th>\n",
       "      <th>Position</th>\n",
       "      <th>Annual Salary</th>\n",
       "      <th>Average</th>\n",
       "      <th>OBP</th>\n",
       "      <th>SLG</th>\n",
       "      <th>HR</th>\n",
       "      <th>SO</th>\n",
       "      <th>Defensive Runs Saved</th>\n",
       "      <th>WAR</th>\n",
       "    </tr>\n",
       "    <tr>\n",
       "      <th>Year</th>\n",
       "      <th></th>\n",
       "      <th></th>\n",
       "      <th></th>\n",
       "      <th></th>\n",
       "      <th></th>\n",
       "      <th></th>\n",
       "      <th></th>\n",
       "      <th></th>\n",
       "      <th></th>\n",
       "      <th></th>\n",
       "      <th></th>\n",
       "    </tr>\n",
       "  </thead>\n",
       "  <tbody>\n",
       "    <tr>\n",
       "      <th>2015</th>\n",
       "      <td>Jason Heyward</td>\n",
       "      <td>26</td>\n",
       "      <td>RF</td>\n",
       "      <td>23</td>\n",
       "      <td>0.273</td>\n",
       "      <td>0.353</td>\n",
       "      <td>0.417</td>\n",
       "      <td>13</td>\n",
       "      <td>87</td>\n",
       "      <td>23</td>\n",
       "      <td>5</td>\n",
       "    </tr>\n",
       "    <tr>\n",
       "      <th>2017</th>\n",
       "      <td>Lorenzo Cain</td>\n",
       "      <td>31</td>\n",
       "      <td>CF</td>\n",
       "      <td>16</td>\n",
       "      <td>0.298</td>\n",
       "      <td>0.354</td>\n",
       "      <td>0.442</td>\n",
       "      <td>13</td>\n",
       "      <td>94</td>\n",
       "      <td>10</td>\n",
       "      <td>5</td>\n",
       "    </tr>\n",
       "    <tr>\n",
       "      <th>2019</th>\n",
       "      <td>Yasmani Grandal</td>\n",
       "      <td>30</td>\n",
       "      <td>C</td>\n",
       "      <td>18</td>\n",
       "      <td>0.245</td>\n",
       "      <td>0.346</td>\n",
       "      <td>0.464</td>\n",
       "      <td>25</td>\n",
       "      <td>131</td>\n",
       "      <td>9</td>\n",
       "      <td>3</td>\n",
       "    </tr>\n",
       "    <tr>\n",
       "      <th>2016</th>\n",
       "      <td>Josh Reddick</td>\n",
       "      <td>29</td>\n",
       "      <td>RF</td>\n",
       "      <td>13</td>\n",
       "      <td>0.272</td>\n",
       "      <td>0.331</td>\n",
       "      <td>0.433</td>\n",
       "      <td>14</td>\n",
       "      <td>61</td>\n",
       "      <td>5</td>\n",
       "      <td>3</td>\n",
       "    </tr>\n",
       "    <tr>\n",
       "      <th>2019</th>\n",
       "      <td>Josh Donaldson</td>\n",
       "      <td>33</td>\n",
       "      <td>3B</td>\n",
       "      <td>23</td>\n",
       "      <td>0.271</td>\n",
       "      <td>0.389</td>\n",
       "      <td>0.543</td>\n",
       "      <td>36</td>\n",
       "      <td>128</td>\n",
       "      <td>4</td>\n",
       "      <td>6</td>\n",
       "    </tr>\n",
       "  </tbody>\n",
       "</table>\n",
       "</div>"
      ],
      "text/plain": [
       "          Player Name  Age Position  Annual Salary  Average    OBP    SLG  HR  \\\n",
       "Year                                                                            \n",
       "2015    Jason Heyward   26       RF             23    0.273  0.353  0.417  13   \n",
       "2017     Lorenzo Cain   31       CF             16    0.298  0.354  0.442  13   \n",
       "2019  Yasmani Grandal   30        C             18    0.245  0.346  0.464  25   \n",
       "2016     Josh Reddick   29       RF             13    0.272  0.331  0.433  14   \n",
       "2019   Josh Donaldson   33       3B             23    0.271  0.389  0.543  36   \n",
       "\n",
       "       SO  Defensive Runs Saved  WAR  \n",
       "Year                                  \n",
       "2015   87                    23    5  \n",
       "2017   94                    10    5  \n",
       "2019  131                     9    3  \n",
       "2016   61                     5    3  \n",
       "2019  128                     4    6  "
      ]
     },
     "execution_count": 91,
     "metadata": {},
     "output_type": "execute_result"
    }
   ],
   "source": [
    "df.nlargest(5,['Defensive Runs Saved'])"
   ]
  },
  {
   "cell_type": "code",
   "execution_count": 92,
   "metadata": {},
   "outputs": [
    {
     "data": {
      "text/html": [
       "<div>\n",
       "<style scoped>\n",
       "    .dataframe tbody tr th:only-of-type {\n",
       "        vertical-align: middle;\n",
       "    }\n",
       "\n",
       "    .dataframe tbody tr th {\n",
       "        vertical-align: top;\n",
       "    }\n",
       "\n",
       "    .dataframe thead th {\n",
       "        text-align: right;\n",
       "    }\n",
       "</style>\n",
       "<table border=\"1\" class=\"dataframe\">\n",
       "  <thead>\n",
       "    <tr style=\"text-align: right;\">\n",
       "      <th></th>\n",
       "      <th>Player Name</th>\n",
       "      <th>Age</th>\n",
       "      <th>Position</th>\n",
       "      <th>Annual Salary</th>\n",
       "      <th>Average</th>\n",
       "      <th>OBP</th>\n",
       "      <th>SLG</th>\n",
       "      <th>HR</th>\n",
       "      <th>SO</th>\n",
       "      <th>Defensive Runs Saved</th>\n",
       "      <th>WAR</th>\n",
       "    </tr>\n",
       "    <tr>\n",
       "      <th>Year</th>\n",
       "      <th></th>\n",
       "      <th></th>\n",
       "      <th></th>\n",
       "      <th></th>\n",
       "      <th></th>\n",
       "      <th></th>\n",
       "      <th></th>\n",
       "      <th></th>\n",
       "      <th></th>\n",
       "      <th></th>\n",
       "      <th></th>\n",
       "    </tr>\n",
       "  </thead>\n",
       "  <tbody>\n",
       "    <tr>\n",
       "      <th>2015</th>\n",
       "      <td>Yeonis Cespedes</td>\n",
       "      <td>29</td>\n",
       "      <td>LF</td>\n",
       "      <td>25</td>\n",
       "      <td>0.264</td>\n",
       "      <td>0.317</td>\n",
       "      <td>0.466</td>\n",
       "      <td>24</td>\n",
       "      <td>122</td>\n",
       "      <td>-16</td>\n",
       "      <td>3</td>\n",
       "    </tr>\n",
       "    <tr>\n",
       "      <th>2019</th>\n",
       "      <td>Nick Castellanos</td>\n",
       "      <td>27</td>\n",
       "      <td>RF</td>\n",
       "      <td>16</td>\n",
       "      <td>0.286</td>\n",
       "      <td>0.337</td>\n",
       "      <td>0.505</td>\n",
       "      <td>25</td>\n",
       "      <td>145</td>\n",
       "      <td>-16</td>\n",
       "      <td>2</td>\n",
       "    </tr>\n",
       "    <tr>\n",
       "      <th>2016</th>\n",
       "      <td>Dexter Fowler</td>\n",
       "      <td>30</td>\n",
       "      <td>RF</td>\n",
       "      <td>17</td>\n",
       "      <td>0.267</td>\n",
       "      <td>0.371</td>\n",
       "      <td>0.419</td>\n",
       "      <td>13</td>\n",
       "      <td>129</td>\n",
       "      <td>-12</td>\n",
       "      <td>3</td>\n",
       "    </tr>\n",
       "    <tr>\n",
       "      <th>2018</th>\n",
       "      <td>Andrew McCutchen</td>\n",
       "      <td>31</td>\n",
       "      <td>CF</td>\n",
       "      <td>17</td>\n",
       "      <td>0.263</td>\n",
       "      <td>0.356</td>\n",
       "      <td>0.447</td>\n",
       "      <td>24</td>\n",
       "      <td>135</td>\n",
       "      <td>-12</td>\n",
       "      <td>2</td>\n",
       "    </tr>\n",
       "    <tr>\n",
       "      <th>2016</th>\n",
       "      <td>Carlos Beltran</td>\n",
       "      <td>39</td>\n",
       "      <td>RF</td>\n",
       "      <td>16</td>\n",
       "      <td>0.268</td>\n",
       "      <td>0.325</td>\n",
       "      <td>0.462</td>\n",
       "      <td>21</td>\n",
       "      <td>89</td>\n",
       "      <td>-7</td>\n",
       "      <td>1</td>\n",
       "    </tr>\n",
       "  </tbody>\n",
       "</table>\n",
       "</div>"
      ],
      "text/plain": [
       "           Player Name  Age Position  Annual Salary  Average    OBP    SLG  \\\n",
       "Year                                                                         \n",
       "2015   Yeonis Cespedes   29       LF             25    0.264  0.317  0.466   \n",
       "2019  Nick Castellanos   27       RF             16    0.286  0.337  0.505   \n",
       "2016     Dexter Fowler   30       RF             17    0.267  0.371  0.419   \n",
       "2018  Andrew McCutchen   31       CF             17    0.263  0.356  0.447   \n",
       "2016    Carlos Beltran   39       RF             16    0.268  0.325  0.462   \n",
       "\n",
       "      HR   SO  Defensive Runs Saved  WAR  \n",
       "Year                                      \n",
       "2015  24  122                   -16    3  \n",
       "2019  25  145                   -16    2  \n",
       "2016  13  129                   -12    3  \n",
       "2018  24  135                   -12    2  \n",
       "2016  21   89                    -7    1  "
      ]
     },
     "execution_count": 92,
     "metadata": {},
     "output_type": "execute_result"
    }
   ],
   "source": [
    "df.nsmallest(5,['Defensive Runs Saved'])"
   ]
  },
  {
   "cell_type": "code",
   "execution_count": 94,
   "metadata": {},
   "outputs": [
    {
     "data": {
      "text/html": [
       "<div>\n",
       "<style scoped>\n",
       "    .dataframe tbody tr th:only-of-type {\n",
       "        vertical-align: middle;\n",
       "    }\n",
       "\n",
       "    .dataframe tbody tr th {\n",
       "        vertical-align: top;\n",
       "    }\n",
       "\n",
       "    .dataframe thead th {\n",
       "        text-align: right;\n",
       "    }\n",
       "</style>\n",
       "<table border=\"1\" class=\"dataframe\">\n",
       "  <thead>\n",
       "    <tr style=\"text-align: right;\">\n",
       "      <th></th>\n",
       "      <th>Player Name</th>\n",
       "      <th>Age</th>\n",
       "      <th>Position</th>\n",
       "      <th>Annual Salary</th>\n",
       "      <th>Average</th>\n",
       "      <th>OBP</th>\n",
       "      <th>SLG</th>\n",
       "      <th>HR</th>\n",
       "      <th>SO</th>\n",
       "      <th>Defensive Runs Saved</th>\n",
       "      <th>WAR</th>\n",
       "    </tr>\n",
       "    <tr>\n",
       "      <th>Year</th>\n",
       "      <th></th>\n",
       "      <th></th>\n",
       "      <th></th>\n",
       "      <th></th>\n",
       "      <th></th>\n",
       "      <th></th>\n",
       "      <th></th>\n",
       "      <th></th>\n",
       "      <th></th>\n",
       "      <th></th>\n",
       "      <th></th>\n",
       "    </tr>\n",
       "  </thead>\n",
       "  <tbody>\n",
       "    <tr>\n",
       "      <th>2015</th>\n",
       "      <td>Jason Heyward</td>\n",
       "      <td>26.0</td>\n",
       "      <td>RF</td>\n",
       "      <td>23</td>\n",
       "      <td>0.273</td>\n",
       "      <td>0.353</td>\n",
       "      <td>0.417</td>\n",
       "      <td>13</td>\n",
       "      <td>87.0</td>\n",
       "      <td>23</td>\n",
       "      <td>5</td>\n",
       "    </tr>\n",
       "    <tr>\n",
       "      <th>2015</th>\n",
       "      <td>Chris Davis</td>\n",
       "      <td>29.0</td>\n",
       "      <td>1B</td>\n",
       "      <td>23</td>\n",
       "      <td>0.248</td>\n",
       "      <td>0.344</td>\n",
       "      <td>0.533</td>\n",
       "      <td>42</td>\n",
       "      <td>NaN</td>\n",
       "      <td>-5</td>\n",
       "      <td>4</td>\n",
       "    </tr>\n",
       "    <tr>\n",
       "      <th>2015</th>\n",
       "      <td>Justin Upton</td>\n",
       "      <td>27.0</td>\n",
       "      <td>LF</td>\n",
       "      <td>22</td>\n",
       "      <td>0.271</td>\n",
       "      <td>0.350</td>\n",
       "      <td>0.462</td>\n",
       "      <td>24</td>\n",
       "      <td>151.0</td>\n",
       "      <td>-5</td>\n",
       "      <td>3</td>\n",
       "    </tr>\n",
       "    <tr>\n",
       "      <th>2015</th>\n",
       "      <td>Yeonis Cespedes</td>\n",
       "      <td>29.0</td>\n",
       "      <td>LF</td>\n",
       "      <td>25</td>\n",
       "      <td>0.264</td>\n",
       "      <td>0.317</td>\n",
       "      <td>0.466</td>\n",
       "      <td>24</td>\n",
       "      <td>122.0</td>\n",
       "      <td>-16</td>\n",
       "      <td>3</td>\n",
       "    </tr>\n",
       "    <tr>\n",
       "      <th>2015</th>\n",
       "      <td>Ben Zobrist</td>\n",
       "      <td>34.0</td>\n",
       "      <td>RF</td>\n",
       "      <td>14</td>\n",
       "      <td>0.272</td>\n",
       "      <td>0.362</td>\n",
       "      <td>0.423</td>\n",
       "      <td>14</td>\n",
       "      <td>93.0</td>\n",
       "      <td>-5</td>\n",
       "      <td>5</td>\n",
       "    </tr>\n",
       "    <tr>\n",
       "      <th>2016</th>\n",
       "      <td>Dexter Fowler</td>\n",
       "      <td>30.0</td>\n",
       "      <td>RF</td>\n",
       "      <td>17</td>\n",
       "      <td>0.267</td>\n",
       "      <td>0.371</td>\n",
       "      <td>0.419</td>\n",
       "      <td>13</td>\n",
       "      <td>129.0</td>\n",
       "      <td>-12</td>\n",
       "      <td>3</td>\n",
       "    </tr>\n",
       "    <tr>\n",
       "      <th>2016</th>\n",
       "      <td>Ian Desmond</td>\n",
       "      <td>30.0</td>\n",
       "      <td>CF</td>\n",
       "      <td>14</td>\n",
       "      <td>0.258</td>\n",
       "      <td>0.313</td>\n",
       "      <td>0.496</td>\n",
       "      <td>22</td>\n",
       "      <td>177.0</td>\n",
       "      <td>-2</td>\n",
       "      <td>3</td>\n",
       "    </tr>\n",
       "    <tr>\n",
       "      <th>2016</th>\n",
       "      <td>Carlos Beltran</td>\n",
       "      <td>NaN</td>\n",
       "      <td>RF</td>\n",
       "      <td>16</td>\n",
       "      <td>0.268</td>\n",
       "      <td>0.325</td>\n",
       "      <td>0.462</td>\n",
       "      <td>21</td>\n",
       "      <td>89.0</td>\n",
       "      <td>-7</td>\n",
       "      <td>1</td>\n",
       "    </tr>\n",
       "    <tr>\n",
       "      <th>2016</th>\n",
       "      <td>Edwin Encarnacion</td>\n",
       "      <td>33.0</td>\n",
       "      <td>DH</td>\n",
       "      <td>20</td>\n",
       "      <td>0.269</td>\n",
       "      <td>0.361</td>\n",
       "      <td>0.544</td>\n",
       "      <td>38</td>\n",
       "      <td>106.0</td>\n",
       "      <td>0</td>\n",
       "      <td>4</td>\n",
       "    </tr>\n",
       "    <tr>\n",
       "      <th>2016</th>\n",
       "      <td>Josh Reddick</td>\n",
       "      <td>29.0</td>\n",
       "      <td>RF</td>\n",
       "      <td>13</td>\n",
       "      <td>0.272</td>\n",
       "      <td>0.331</td>\n",
       "      <td>0.433</td>\n",
       "      <td>14</td>\n",
       "      <td>61.0</td>\n",
       "      <td>5</td>\n",
       "      <td>3</td>\n",
       "    </tr>\n",
       "    <tr>\n",
       "      <th>2017</th>\n",
       "      <td>Eric Hosmer</td>\n",
       "      <td>27.0</td>\n",
       "      <td>1B</td>\n",
       "      <td>18</td>\n",
       "      <td>0.294</td>\n",
       "      <td>0.359</td>\n",
       "      <td>0.463</td>\n",
       "      <td>23</td>\n",
       "      <td>115.0</td>\n",
       "      <td>0</td>\n",
       "      <td>3</td>\n",
       "    </tr>\n",
       "    <tr>\n",
       "      <th>2017</th>\n",
       "      <td>J.D. Martinez</td>\n",
       "      <td>29.0</td>\n",
       "      <td>LF</td>\n",
       "      <td>22</td>\n",
       "      <td>0.297</td>\n",
       "      <td>0.364</td>\n",
       "      <td>0.587</td>\n",
       "      <td>35</td>\n",
       "      <td>145.0</td>\n",
       "      <td>-7</td>\n",
       "      <td>4</td>\n",
       "    </tr>\n",
       "    <tr>\n",
       "      <th>2017</th>\n",
       "      <td>Lorenzo Cain</td>\n",
       "      <td>31.0</td>\n",
       "      <td>CF</td>\n",
       "      <td>16</td>\n",
       "      <td>0.298</td>\n",
       "      <td>0.354</td>\n",
       "      <td>0.442</td>\n",
       "      <td>13</td>\n",
       "      <td>94.0</td>\n",
       "      <td>10</td>\n",
       "      <td>5</td>\n",
       "    </tr>\n",
       "    <tr>\n",
       "      <th>2017</th>\n",
       "      <td>Carlos Santana</td>\n",
       "      <td>31.0</td>\n",
       "      <td>1B</td>\n",
       "      <td>20</td>\n",
       "      <td>0.250</td>\n",
       "      <td>0.362</td>\n",
       "      <td>0.449</td>\n",
       "      <td>25</td>\n",
       "      <td>105.0</td>\n",
       "      <td>0</td>\n",
       "      <td>2</td>\n",
       "    </tr>\n",
       "    <tr>\n",
       "      <th>2017</th>\n",
       "      <td>Jay Bruce</td>\n",
       "      <td>30.0</td>\n",
       "      <td>LF</td>\n",
       "      <td>13</td>\n",
       "      <td>0.243</td>\n",
       "      <td>0.309</td>\n",
       "      <td>0.483</td>\n",
       "      <td>32</td>\n",
       "      <td>137.0</td>\n",
       "      <td>0</td>\n",
       "      <td>2</td>\n",
       "    </tr>\n",
       "    <tr>\n",
       "      <th>2018</th>\n",
       "      <td>Bryce Harper</td>\n",
       "      <td>25.0</td>\n",
       "      <td>RF</td>\n",
       "      <td>25</td>\n",
       "      <td>0.270</td>\n",
       "      <td>0.393</td>\n",
       "      <td>0.511</td>\n",
       "      <td>29</td>\n",
       "      <td>128.0</td>\n",
       "      <td>-7</td>\n",
       "      <td>3</td>\n",
       "    </tr>\n",
       "    <tr>\n",
       "      <th>2018</th>\n",
       "      <td>Manny Machado</td>\n",
       "      <td>25.0</td>\n",
       "      <td>3B</td>\n",
       "      <td>30</td>\n",
       "      <td>0.283</td>\n",
       "      <td>0.340</td>\n",
       "      <td>0.514</td>\n",
       "      <td>36</td>\n",
       "      <td>113.0</td>\n",
       "      <td>2</td>\n",
       "      <td>5</td>\n",
       "    </tr>\n",
       "    <tr>\n",
       "      <th>2018</th>\n",
       "      <td>Andrew McCutchen</td>\n",
       "      <td>31.0</td>\n",
       "      <td>CF</td>\n",
       "      <td>17</td>\n",
       "      <td>0.263</td>\n",
       "      <td>0.356</td>\n",
       "      <td>0.447</td>\n",
       "      <td>24</td>\n",
       "      <td>135.0</td>\n",
       "      <td>-12</td>\n",
       "      <td>2</td>\n",
       "    </tr>\n",
       "    <tr>\n",
       "      <th>2018</th>\n",
       "      <td>Michael Brantley</td>\n",
       "      <td>31.0</td>\n",
       "      <td>LF</td>\n",
       "      <td>16</td>\n",
       "      <td>0.306</td>\n",
       "      <td>0.367</td>\n",
       "      <td>0.464</td>\n",
       "      <td>14</td>\n",
       "      <td>54.0</td>\n",
       "      <td>3</td>\n",
       "      <td>3</td>\n",
       "    </tr>\n",
       "    <tr>\n",
       "      <th>2018</th>\n",
       "      <td>Josh Donaldson</td>\n",
       "      <td>32.0</td>\n",
       "      <td>3B</td>\n",
       "      <td>23</td>\n",
       "      <td>0.284</td>\n",
       "      <td>0.387</td>\n",
       "      <td>0.559</td>\n",
       "      <td>37</td>\n",
       "      <td>121.0</td>\n",
       "      <td>-2</td>\n",
       "      <td>6</td>\n",
       "    </tr>\n",
       "    <tr>\n",
       "      <th>2019</th>\n",
       "      <td>Anthony Rendon</td>\n",
       "      <td>29.0</td>\n",
       "      <td>3B</td>\n",
       "      <td>35</td>\n",
       "      <td>0.309</td>\n",
       "      <td>0.396</td>\n",
       "      <td>0.555</td>\n",
       "      <td>28</td>\n",
       "      <td>83.0</td>\n",
       "      <td>3</td>\n",
       "      <td>6</td>\n",
       "    </tr>\n",
       "    <tr>\n",
       "      <th>2019</th>\n",
       "      <td>Josh Donaldson</td>\n",
       "      <td>33.0</td>\n",
       "      <td>3B</td>\n",
       "      <td>23</td>\n",
       "      <td>0.271</td>\n",
       "      <td>0.389</td>\n",
       "      <td>0.543</td>\n",
       "      <td>36</td>\n",
       "      <td>128.0</td>\n",
       "      <td>4</td>\n",
       "      <td>6</td>\n",
       "    </tr>\n",
       "    <tr>\n",
       "      <th>2019</th>\n",
       "      <td>Yasmani Grandal</td>\n",
       "      <td>30.0</td>\n",
       "      <td>C</td>\n",
       "      <td>18</td>\n",
       "      <td>0.245</td>\n",
       "      <td>0.346</td>\n",
       "      <td>0.464</td>\n",
       "      <td>25</td>\n",
       "      <td>131.0</td>\n",
       "      <td>9</td>\n",
       "      <td>3</td>\n",
       "    </tr>\n",
       "    <tr>\n",
       "      <th>2019</th>\n",
       "      <td>Nick Castellanos</td>\n",
       "      <td>27.0</td>\n",
       "      <td>RF</td>\n",
       "      <td>16</td>\n",
       "      <td>0.286</td>\n",
       "      <td>0.337</td>\n",
       "      <td>0.505</td>\n",
       "      <td>25</td>\n",
       "      <td>145.0</td>\n",
       "      <td>-16</td>\n",
       "      <td>2</td>\n",
       "    </tr>\n",
       "    <tr>\n",
       "      <th>2019</th>\n",
       "      <td>Marcell Ozuna</td>\n",
       "      <td>28.0</td>\n",
       "      <td>LF</td>\n",
       "      <td>18</td>\n",
       "      <td>0.278</td>\n",
       "      <td>0.343</td>\n",
       "      <td>0.484</td>\n",
       "      <td>30</td>\n",
       "      <td>123.0</td>\n",
       "      <td>4</td>\n",
       "      <td>3</td>\n",
       "    </tr>\n",
       "  </tbody>\n",
       "</table>\n",
       "</div>"
      ],
      "text/plain": [
       "            Player Name   Age Position  Annual Salary  Average    OBP    SLG  \\\n",
       "Year                                                                           \n",
       "2015      Jason Heyward  26.0       RF             23    0.273  0.353  0.417   \n",
       "2015        Chris Davis  29.0       1B             23    0.248  0.344  0.533   \n",
       "2015       Justin Upton  27.0       LF             22    0.271  0.350  0.462   \n",
       "2015    Yeonis Cespedes  29.0       LF             25    0.264  0.317  0.466   \n",
       "2015        Ben Zobrist  34.0       RF             14    0.272  0.362  0.423   \n",
       "2016      Dexter Fowler  30.0       RF             17    0.267  0.371  0.419   \n",
       "2016        Ian Desmond  30.0       CF             14    0.258  0.313  0.496   \n",
       "2016     Carlos Beltran   NaN       RF             16    0.268  0.325  0.462   \n",
       "2016  Edwin Encarnacion  33.0       DH             20    0.269  0.361  0.544   \n",
       "2016       Josh Reddick  29.0       RF             13    0.272  0.331  0.433   \n",
       "2017        Eric Hosmer  27.0       1B             18    0.294  0.359  0.463   \n",
       "2017      J.D. Martinez  29.0       LF             22    0.297  0.364  0.587   \n",
       "2017       Lorenzo Cain  31.0       CF             16    0.298  0.354  0.442   \n",
       "2017     Carlos Santana  31.0       1B             20    0.250  0.362  0.449   \n",
       "2017          Jay Bruce  30.0       LF             13    0.243  0.309  0.483   \n",
       "2018       Bryce Harper  25.0       RF             25    0.270  0.393  0.511   \n",
       "2018      Manny Machado  25.0       3B             30    0.283  0.340  0.514   \n",
       "2018   Andrew McCutchen  31.0       CF             17    0.263  0.356  0.447   \n",
       "2018   Michael Brantley  31.0       LF             16    0.306  0.367  0.464   \n",
       "2018     Josh Donaldson  32.0       3B             23    0.284  0.387  0.559   \n",
       "2019     Anthony Rendon  29.0       3B             35    0.309  0.396  0.555   \n",
       "2019     Josh Donaldson  33.0       3B             23    0.271  0.389  0.543   \n",
       "2019    Yasmani Grandal  30.0        C             18    0.245  0.346  0.464   \n",
       "2019   Nick Castellanos  27.0       RF             16    0.286  0.337  0.505   \n",
       "2019      Marcell Ozuna  28.0       LF             18    0.278  0.343  0.484   \n",
       "\n",
       "      HR     SO  Defensive Runs Saved  WAR  \n",
       "Year                                        \n",
       "2015  13   87.0                    23    5  \n",
       "2015  42    NaN                    -5    4  \n",
       "2015  24  151.0                    -5    3  \n",
       "2015  24  122.0                   -16    3  \n",
       "2015  14   93.0                    -5    5  \n",
       "2016  13  129.0                   -12    3  \n",
       "2016  22  177.0                    -2    3  \n",
       "2016  21   89.0                    -7    1  \n",
       "2016  38  106.0                     0    4  \n",
       "2016  14   61.0                     5    3  \n",
       "2017  23  115.0                     0    3  \n",
       "2017  35  145.0                    -7    4  \n",
       "2017  13   94.0                    10    5  \n",
       "2017  25  105.0                     0    2  \n",
       "2017  32  137.0                     0    2  \n",
       "2018  29  128.0                    -7    3  \n",
       "2018  36  113.0                     2    5  \n",
       "2018  24  135.0                   -12    2  \n",
       "2018  14   54.0                     3    3  \n",
       "2018  37  121.0                    -2    6  \n",
       "2019  28   83.0                     3    6  \n",
       "2019  36  128.0                     4    6  \n",
       "2019  25  131.0                     9    3  \n",
       "2019  25  145.0                   -16    2  \n",
       "2019  30  123.0                     4    3  "
      ]
     },
     "execution_count": 94,
     "metadata": {},
     "output_type": "execute_result"
    }
   ],
   "source": [
    "#replace two outliers in the dataset with NAN\n",
    "\n",
    "new_df= df.replace([39, 193], np.NAN)\n",
    "new_df"
   ]
  },
  {
   "cell_type": "code",
   "execution_count": 101,
   "metadata": {},
   "outputs": [
    {
     "data": {
      "text/plain": [
       "29.416666666666668"
      ]
     },
     "execution_count": 101,
     "metadata": {},
     "output_type": "execute_result"
    }
   ],
   "source": [
    "#Find mean of of variables\n",
    "\n",
    "new_df.Age.mean()"
   ]
  },
  {
   "cell_type": "code",
   "execution_count": 102,
   "metadata": {},
   "outputs": [
    {
     "data": {
      "text/plain": [
       "29.8"
      ]
     },
     "execution_count": 102,
     "metadata": {},
     "output_type": "execute_result"
    }
   ],
   "source": [
    "df.Age.mean()"
   ]
  },
  {
   "cell_type": "code",
   "execution_count": 103,
   "metadata": {},
   "outputs": [
    {
     "data": {
      "text/plain": [
       "3.56"
      ]
     },
     "execution_count": 103,
     "metadata": {},
     "output_type": "execute_result"
    }
   ],
   "source": [
    "new_df.WAR.mean()"
   ]
  },
  {
   "cell_type": "code",
   "execution_count": 104,
   "metadata": {},
   "outputs": [
    {
     "data": {
      "text/plain": [
       "115.5"
      ]
     },
     "execution_count": 104,
     "metadata": {},
     "output_type": "execute_result"
    }
   ],
   "source": [
    "new_df.SO.mean()"
   ]
  },
  {
   "cell_type": "code",
   "execution_count": 105,
   "metadata": {},
   "outputs": [
    {
     "data": {
      "text/plain": [
       "118.6"
      ]
     },
     "execution_count": 105,
     "metadata": {},
     "output_type": "execute_result"
    }
   ],
   "source": [
    "df.SO.mean()"
   ]
  },
  {
   "cell_type": "code",
   "execution_count": 112,
   "metadata": {},
   "outputs": [
    {
     "data": {
      "text/plain": [
       "25.48"
      ]
     },
     "execution_count": 112,
     "metadata": {},
     "output_type": "execute_result"
    }
   ],
   "source": [
    "new_df.HR.mean()"
   ]
  },
  {
   "cell_type": "code",
   "execution_count": 113,
   "metadata": {},
   "outputs": [
    {
     "data": {
      "text/plain": [
       "0.2735600000000001"
      ]
     },
     "execution_count": 113,
     "metadata": {},
     "output_type": "execute_result"
    }
   ],
   "source": [
    "new_df.Average.mean()"
   ]
  },
  {
   "cell_type": "code",
   "execution_count": 114,
   "metadata": {},
   "outputs": [
    {
     "data": {
      "text/plain": [
       "0.35316000000000003"
      ]
     },
     "execution_count": 114,
     "metadata": {},
     "output_type": "execute_result"
    }
   ],
   "source": [
    "new_df.OBP.mean()"
   ]
  },
  {
   "cell_type": "code",
   "execution_count": 115,
   "metadata": {},
   "outputs": [
    {
     "data": {
      "text/plain": [
       "0.48499999999999993"
      ]
     },
     "execution_count": 115,
     "metadata": {},
     "output_type": "execute_result"
    }
   ],
   "source": [
    "new_df.SLG.mean()"
   ]
  },
  {
   "cell_type": "code",
   "execution_count": 117,
   "metadata": {},
   "outputs": [
    {
     "data": {
      "text/plain": [
       "5.905797101449275"
      ]
     },
     "execution_count": 117,
     "metadata": {},
     "output_type": "execute_result"
    }
   ],
   "source": [
    "#Find variation of variables\n",
    "\n",
    "new_df.Age.var()"
   ]
  },
  {
   "cell_type": "code",
   "execution_count": 118,
   "metadata": {},
   "outputs": [
    {
     "data": {
      "text/plain": [
       "2.430184581765195"
      ]
     },
     "execution_count": 118,
     "metadata": {},
     "output_type": "execute_result"
    }
   ],
   "source": [
    "#Find standard deviation of variables\n",
    "\n",
    "new_df.Age.std()"
   ]
  },
  {
   "cell_type": "code",
   "execution_count": 121,
   "metadata": {},
   "outputs": [
    {
     "data": {
      "text/plain": [
       "1.9233333333333336"
      ]
     },
     "execution_count": 121,
     "metadata": {},
     "output_type": "execute_result"
    }
   ],
   "source": [
    "new_df.WAR.var()"
   ]
  },
  {
   "cell_type": "code",
   "execution_count": 122,
   "metadata": {},
   "outputs": [
    {
     "data": {
      "text/plain": [
       "1.3868429375143148"
      ]
     },
     "execution_count": 122,
     "metadata": {},
     "output_type": "execute_result"
    }
   ],
   "source": [
    "new_df.WAR.std()"
   ]
  },
  {
   "cell_type": "code",
   "execution_count": 123,
   "metadata": {},
   "outputs": [
    {
     "data": {
      "text/plain": [
       "77.67666666666665"
      ]
     },
     "execution_count": 123,
     "metadata": {},
     "output_type": "execute_result"
    }
   ],
   "source": [
    "new_df.HR.var()"
   ]
  },
  {
   "cell_type": "code",
   "execution_count": 124,
   "metadata": {},
   "outputs": [
    {
     "data": {
      "text/plain": [
       "28.732650719891897"
      ]
     },
     "execution_count": 124,
     "metadata": {},
     "output_type": "execute_result"
    }
   ],
   "source": [
    "new_df.SO.std()"
   ]
  },
  {
   "cell_type": "code",
   "execution_count": 125,
   "metadata": {},
   "outputs": [
    {
     "data": {
      "text/plain": [
       "2.430184581765195"
      ]
     },
     "execution_count": 125,
     "metadata": {},
     "output_type": "execute_result"
    }
   ],
   "source": [
    "new_df.Age.std()"
   ]
  },
  {
   "cell_type": "code",
   "execution_count": 126,
   "metadata": {},
   "outputs": [
    {
     "data": {
      "text/plain": [
       "8.813436711446146"
      ]
     },
     "execution_count": 126,
     "metadata": {},
     "output_type": "execute_result"
    }
   ],
   "source": [
    "new_df.HR.std()"
   ]
  },
  {
   "cell_type": "code",
   "execution_count": 127,
   "metadata": {},
   "outputs": [
    {
     "data": {
      "text/plain": [
       "Age                      29.500\n",
       "Annual Salary            18.000\n",
       "Average                   0.271\n",
       "OBP                       0.354\n",
       "SLG                       0.466\n",
       "HR                       25.000\n",
       "SO                      121.500\n",
       "Defensive Runs Saved      0.000\n",
       "WAR                       3.000\n",
       "dtype: float64"
      ]
     },
     "execution_count": 127,
     "metadata": {},
     "output_type": "execute_result"
    }
   ],
   "source": [
    "#Identify median\n",
    "\n",
    "new_df.median()"
   ]
  },
  {
   "cell_type": "code",
   "execution_count": 128,
   "metadata": {},
   "outputs": [
    {
     "data": {
      "text/plain": [
       "Age                      29.416667\n",
       "Annual Salary            19.880000\n",
       "Average                   0.273560\n",
       "OBP                       0.353160\n",
       "SLG                       0.485000\n",
       "HR                       25.480000\n",
       "SO                      115.500000\n",
       "Defensive Runs Saved     -1.320000\n",
       "WAR                       3.560000\n",
       "dtype: float64"
      ]
     },
     "execution_count": 128,
     "metadata": {},
     "output_type": "execute_result"
    }
   ],
   "source": [
    "#Identify the mean \n",
    "\n",
    "new_df.mean()"
   ]
  },
  {
   "cell_type": "code",
   "execution_count": 130,
   "metadata": {},
   "outputs": [
    {
     "data": {
      "text/plain": [
       "0    29.0\n",
       "dtype: float64"
      ]
     },
     "execution_count": 130,
     "metadata": {},
     "output_type": "execute_result"
    }
   ],
   "source": [
    "#Identify mode\n",
    "\n",
    "new_df.Age.mode()"
   ]
  },
  {
   "cell_type": "code",
   "execution_count": 132,
   "metadata": {},
   "outputs": [
    {
     "data": {
      "text/plain": [
       "Age                      2.430185\n",
       "Annual Salary            5.333229\n",
       "Average                  0.017998\n",
       "OBP                      0.023785\n",
       "SLG                      0.047816\n",
       "HR                       8.813437\n",
       "SO                      28.732651\n",
       "Defensive Runs Saved     8.600969\n",
       "WAR                      1.386843\n",
       "dtype: float64"
      ]
     },
     "execution_count": 132,
     "metadata": {},
     "output_type": "execute_result"
    }
   ],
   "source": [
    "#Identify standard deviations\n",
    "\n",
    "new_df.std()"
   ]
  },
  {
   "cell_type": "code",
   "execution_count": 133,
   "metadata": {},
   "outputs": [
    {
     "data": {
      "text/html": [
       "<div>\n",
       "<style scoped>\n",
       "    .dataframe tbody tr th:only-of-type {\n",
       "        vertical-align: middle;\n",
       "    }\n",
       "\n",
       "    .dataframe tbody tr th {\n",
       "        vertical-align: top;\n",
       "    }\n",
       "\n",
       "    .dataframe thead th {\n",
       "        text-align: right;\n",
       "    }\n",
       "</style>\n",
       "<table border=\"1\" class=\"dataframe\">\n",
       "  <thead>\n",
       "    <tr style=\"text-align: right;\">\n",
       "      <th></th>\n",
       "      <th>Age</th>\n",
       "      <th>Annual Salary</th>\n",
       "      <th>Average</th>\n",
       "      <th>OBP</th>\n",
       "      <th>SLG</th>\n",
       "      <th>HR</th>\n",
       "      <th>SO</th>\n",
       "      <th>Defensive Runs Saved</th>\n",
       "      <th>WAR</th>\n",
       "    </tr>\n",
       "  </thead>\n",
       "  <tbody>\n",
       "    <tr>\n",
       "      <th>count</th>\n",
       "      <td>24.000000</td>\n",
       "      <td>25.000000</td>\n",
       "      <td>25.000000</td>\n",
       "      <td>25.000000</td>\n",
       "      <td>25.000000</td>\n",
       "      <td>25.000000</td>\n",
       "      <td>24.000000</td>\n",
       "      <td>25.000000</td>\n",
       "      <td>25.000000</td>\n",
       "    </tr>\n",
       "    <tr>\n",
       "      <th>mean</th>\n",
       "      <td>29.416667</td>\n",
       "      <td>19.880000</td>\n",
       "      <td>0.273560</td>\n",
       "      <td>0.353160</td>\n",
       "      <td>0.485000</td>\n",
       "      <td>25.480000</td>\n",
       "      <td>115.500000</td>\n",
       "      <td>-1.320000</td>\n",
       "      <td>3.560000</td>\n",
       "    </tr>\n",
       "    <tr>\n",
       "      <th>std</th>\n",
       "      <td>2.430185</td>\n",
       "      <td>5.333229</td>\n",
       "      <td>0.017998</td>\n",
       "      <td>0.023785</td>\n",
       "      <td>0.047816</td>\n",
       "      <td>8.813437</td>\n",
       "      <td>28.732651</td>\n",
       "      <td>8.600969</td>\n",
       "      <td>1.386843</td>\n",
       "    </tr>\n",
       "    <tr>\n",
       "      <th>min</th>\n",
       "      <td>25.000000</td>\n",
       "      <td>13.000000</td>\n",
       "      <td>0.243000</td>\n",
       "      <td>0.309000</td>\n",
       "      <td>0.417000</td>\n",
       "      <td>13.000000</td>\n",
       "      <td>54.000000</td>\n",
       "      <td>-16.000000</td>\n",
       "      <td>1.000000</td>\n",
       "    </tr>\n",
       "    <tr>\n",
       "      <th>25%</th>\n",
       "      <td>27.750000</td>\n",
       "      <td>16.000000</td>\n",
       "      <td>0.264000</td>\n",
       "      <td>0.340000</td>\n",
       "      <td>0.449000</td>\n",
       "      <td>21.000000</td>\n",
       "      <td>93.750000</td>\n",
       "      <td>-7.000000</td>\n",
       "      <td>3.000000</td>\n",
       "    </tr>\n",
       "    <tr>\n",
       "      <th>50%</th>\n",
       "      <td>29.500000</td>\n",
       "      <td>18.000000</td>\n",
       "      <td>0.271000</td>\n",
       "      <td>0.354000</td>\n",
       "      <td>0.466000</td>\n",
       "      <td>25.000000</td>\n",
       "      <td>121.500000</td>\n",
       "      <td>0.000000</td>\n",
       "      <td>3.000000</td>\n",
       "    </tr>\n",
       "    <tr>\n",
       "      <th>75%</th>\n",
       "      <td>31.000000</td>\n",
       "      <td>23.000000</td>\n",
       "      <td>0.284000</td>\n",
       "      <td>0.364000</td>\n",
       "      <td>0.514000</td>\n",
       "      <td>32.000000</td>\n",
       "      <td>132.000000</td>\n",
       "      <td>3.000000</td>\n",
       "      <td>5.000000</td>\n",
       "    </tr>\n",
       "    <tr>\n",
       "      <th>max</th>\n",
       "      <td>34.000000</td>\n",
       "      <td>35.000000</td>\n",
       "      <td>0.309000</td>\n",
       "      <td>0.396000</td>\n",
       "      <td>0.587000</td>\n",
       "      <td>42.000000</td>\n",
       "      <td>177.000000</td>\n",
       "      <td>23.000000</td>\n",
       "      <td>6.000000</td>\n",
       "    </tr>\n",
       "  </tbody>\n",
       "</table>\n",
       "</div>"
      ],
      "text/plain": [
       "             Age  Annual Salary    Average        OBP        SLG         HR  \\\n",
       "count  24.000000      25.000000  25.000000  25.000000  25.000000  25.000000   \n",
       "mean   29.416667      19.880000   0.273560   0.353160   0.485000  25.480000   \n",
       "std     2.430185       5.333229   0.017998   0.023785   0.047816   8.813437   \n",
       "min    25.000000      13.000000   0.243000   0.309000   0.417000  13.000000   \n",
       "25%    27.750000      16.000000   0.264000   0.340000   0.449000  21.000000   \n",
       "50%    29.500000      18.000000   0.271000   0.354000   0.466000  25.000000   \n",
       "75%    31.000000      23.000000   0.284000   0.364000   0.514000  32.000000   \n",
       "max    34.000000      35.000000   0.309000   0.396000   0.587000  42.000000   \n",
       "\n",
       "               SO  Defensive Runs Saved        WAR  \n",
       "count   24.000000             25.000000  25.000000  \n",
       "mean   115.500000             -1.320000   3.560000  \n",
       "std     28.732651              8.600969   1.386843  \n",
       "min     54.000000            -16.000000   1.000000  \n",
       "25%     93.750000             -7.000000   3.000000  \n",
       "50%    121.500000              0.000000   3.000000  \n",
       "75%    132.000000              3.000000   5.000000  \n",
       "max    177.000000             23.000000   6.000000  "
      ]
     },
     "execution_count": 133,
     "metadata": {},
     "output_type": "execute_result"
    }
   ],
   "source": [
    "#Provides values of dataset\n",
    "\n",
    "new_df.describe()"
   ]
  },
  {
   "cell_type": "code",
   "execution_count": 134,
   "metadata": {},
   "outputs": [],
   "source": [
    "#Renames columns to remove spaces\n",
    "\n",
    "new_df.columns = new_df.columns.str.strip().str.lower().str.replace(' ', '_').str.replace('(', '').str.replace(')', '')"
   ]
  },
  {
   "cell_type": "code",
   "execution_count": 135,
   "metadata": {},
   "outputs": [
    {
     "data": {
      "text/html": [
       "<div>\n",
       "<style scoped>\n",
       "    .dataframe tbody tr th:only-of-type {\n",
       "        vertical-align: middle;\n",
       "    }\n",
       "\n",
       "    .dataframe tbody tr th {\n",
       "        vertical-align: top;\n",
       "    }\n",
       "\n",
       "    .dataframe thead th {\n",
       "        text-align: right;\n",
       "    }\n",
       "</style>\n",
       "<table border=\"1\" class=\"dataframe\">\n",
       "  <thead>\n",
       "    <tr style=\"text-align: right;\">\n",
       "      <th></th>\n",
       "      <th>player_name</th>\n",
       "      <th>age</th>\n",
       "      <th>position</th>\n",
       "      <th>annual_salary</th>\n",
       "      <th>average</th>\n",
       "      <th>obp</th>\n",
       "      <th>slg</th>\n",
       "      <th>hr</th>\n",
       "      <th>so</th>\n",
       "      <th>defensive_runs_saved</th>\n",
       "      <th>war</th>\n",
       "    </tr>\n",
       "    <tr>\n",
       "      <th>Year</th>\n",
       "      <th></th>\n",
       "      <th></th>\n",
       "      <th></th>\n",
       "      <th></th>\n",
       "      <th></th>\n",
       "      <th></th>\n",
       "      <th></th>\n",
       "      <th></th>\n",
       "      <th></th>\n",
       "      <th></th>\n",
       "      <th></th>\n",
       "    </tr>\n",
       "  </thead>\n",
       "  <tbody>\n",
       "    <tr>\n",
       "      <th>2015</th>\n",
       "      <td>Jason Heyward</td>\n",
       "      <td>26.0</td>\n",
       "      <td>RF</td>\n",
       "      <td>23</td>\n",
       "      <td>0.273</td>\n",
       "      <td>0.353</td>\n",
       "      <td>0.417</td>\n",
       "      <td>13</td>\n",
       "      <td>87.0</td>\n",
       "      <td>23</td>\n",
       "      <td>5</td>\n",
       "    </tr>\n",
       "    <tr>\n",
       "      <th>2015</th>\n",
       "      <td>Chris Davis</td>\n",
       "      <td>29.0</td>\n",
       "      <td>1B</td>\n",
       "      <td>23</td>\n",
       "      <td>0.248</td>\n",
       "      <td>0.344</td>\n",
       "      <td>0.533</td>\n",
       "      <td>42</td>\n",
       "      <td>NaN</td>\n",
       "      <td>-5</td>\n",
       "      <td>4</td>\n",
       "    </tr>\n",
       "    <tr>\n",
       "      <th>2015</th>\n",
       "      <td>Justin Upton</td>\n",
       "      <td>27.0</td>\n",
       "      <td>LF</td>\n",
       "      <td>22</td>\n",
       "      <td>0.271</td>\n",
       "      <td>0.350</td>\n",
       "      <td>0.462</td>\n",
       "      <td>24</td>\n",
       "      <td>151.0</td>\n",
       "      <td>-5</td>\n",
       "      <td>3</td>\n",
       "    </tr>\n",
       "    <tr>\n",
       "      <th>2015</th>\n",
       "      <td>Yeonis Cespedes</td>\n",
       "      <td>29.0</td>\n",
       "      <td>LF</td>\n",
       "      <td>25</td>\n",
       "      <td>0.264</td>\n",
       "      <td>0.317</td>\n",
       "      <td>0.466</td>\n",
       "      <td>24</td>\n",
       "      <td>122.0</td>\n",
       "      <td>-16</td>\n",
       "      <td>3</td>\n",
       "    </tr>\n",
       "    <tr>\n",
       "      <th>2015</th>\n",
       "      <td>Ben Zobrist</td>\n",
       "      <td>34.0</td>\n",
       "      <td>RF</td>\n",
       "      <td>14</td>\n",
       "      <td>0.272</td>\n",
       "      <td>0.362</td>\n",
       "      <td>0.423</td>\n",
       "      <td>14</td>\n",
       "      <td>93.0</td>\n",
       "      <td>-5</td>\n",
       "      <td>5</td>\n",
       "    </tr>\n",
       "  </tbody>\n",
       "</table>\n",
       "</div>"
      ],
      "text/plain": [
       "          player_name   age position  annual_salary  average    obp    slg  \\\n",
       "Year                                                                         \n",
       "2015    Jason Heyward  26.0       RF             23    0.273  0.353  0.417   \n",
       "2015      Chris Davis  29.0       1B             23    0.248  0.344  0.533   \n",
       "2015     Justin Upton  27.0       LF             22    0.271  0.350  0.462   \n",
       "2015  Yeonis Cespedes  29.0       LF             25    0.264  0.317  0.466   \n",
       "2015      Ben Zobrist  34.0       RF             14    0.272  0.362  0.423   \n",
       "\n",
       "      hr     so  defensive_runs_saved  war  \n",
       "Year                                        \n",
       "2015  13   87.0                    23    5  \n",
       "2015  42    NaN                    -5    4  \n",
       "2015  24  151.0                    -5    3  \n",
       "2015  24  122.0                   -16    3  \n",
       "2015  14   93.0                    -5    5  "
      ]
     },
     "execution_count": 135,
     "metadata": {},
     "output_type": "execute_result"
    }
   ],
   "source": [
    "new_df.head()"
   ]
  },
  {
   "cell_type": "code",
   "execution_count": 137,
   "metadata": {},
   "outputs": [],
   "source": [
    "#Create PMF\n",
    "\n",
    "salary = new_df['annual_salary']"
   ]
  },
  {
   "cell_type": "code",
   "execution_count": 147,
   "metadata": {},
   "outputs": [],
   "source": [
    "pmf_salary = thinkstats2.Pmf(salary, label= 'Annual Salary')"
   ]
  },
  {
   "cell_type": "code",
   "execution_count": 162,
   "metadata": {},
   "outputs": [],
   "source": [
    "pmf_salary_2015 = thinkstats2.Pmf([23, 23, 22, 25, 14])\n",
    "pmf_salary_2019 = thinkstats2.Pmf([35, 23, 18, 16, 18])"
   ]
  },
  {
   "cell_type": "code",
   "execution_count": 174,
   "metadata": {},
   "outputs": [
    {
     "data": {
      "image/png": "[encoded data removed]",
      "text/plain": [
       "<Figure size 864x432 with 1 Axes>"
      ]
     },
     "metadata": {
      "needs_background": "light"
     },
     "output_type": "display_data"
    }
   ],
   "source": [
    "thinkplot.PrePlot(2, cols=2)\n",
    "thinkplot.Hist(pmf_salary_2015, label ='2015')\n",
    "thinkplot.Hist(pmf_salary_2019, label ='2019')\n",
    "thinkplot.Config(xlabel= 'Annual Salary in Millions',\n",
    "                ylabel= 'Probability')"
   ]
  },
  {
   "cell_type": "code",
   "execution_count": 177,
   "metadata": {},
   "outputs": [],
   "source": [
    "#Create CDF\n",
    "\n",
    "war = new_df['war']"
   ]
  },
  {
   "cell_type": "code",
   "execution_count": 178,
   "metadata": {},
   "outputs": [],
   "source": [
    "cdf= thinkstats2.Cdf(war, label= 'WAR')"
   ]
  },
  {
   "cell_type": "code",
   "execution_count": 181,
   "metadata": {},
   "outputs": [
    {
     "data": {
      "image/png": "[encoded data removed]",
      "text/plain": [
       "<Figure size 432x288 with 1 Axes>"
      ]
     },
     "metadata": {
      "needs_background": "light"
     },
     "output_type": "display_data"
    },
    {
     "data": {
      "text/plain": [
       "<Figure size 576x432 with 0 Axes>"
      ]
     },
     "metadata": {},
     "output_type": "display_data"
    }
   ],
   "source": [
    "thinkplot.Cdf(cdf)\n",
    "thinkplot.Show(xlabel='Wins Above Replacement', ylabel= \"CDF\")"
   ]
  },
  {
   "cell_type": "code",
   "execution_count": 184,
   "metadata": {},
   "outputs": [
    {
     "data": {
      "image/png": "[encoded data removed]",
      "text/plain": [
       "<Figure size 432x288 with 1 Axes>"
      ]
     },
     "metadata": {
      "needs_background": "light"
     },
     "output_type": "display_data"
    },
    {
     "data": {
      "text/plain": [
       "<Figure size 576x432 with 0 Axes>"
      ]
     },
     "metadata": {},
     "output_type": "display_data"
    }
   ],
   "source": [
    "#Create exponential distribution\n",
    "\n",
    "diffs=new_df.average.diff()\n",
    "cdf_diff= thinkstats2.Cdf(diffs)\n",
    "thinkplot.Cdf(cdf_diff)\n",
    "thinkplot.Show(xlabel='Average', ylabel='CDF')"
   ]
  },
  {
   "cell_type": "code",
   "execution_count": 186,
   "metadata": {},
   "outputs": [
    {
     "data": {
      "text/plain": [
       "<matplotlib.axes._subplots.AxesSubplot at 0x1d2ad16e7f0>"
      ]
     },
     "execution_count": 186,
     "metadata": {},
     "output_type": "execute_result"
    },
    {
     "data": {
      "image/png": "[encoded data removed]",
      "text/plain": [
       "<Figure size 432x288 with 1 Axes>"
      ]
     },
     "metadata": {
      "needs_background": "light"
     },
     "output_type": "display_data"
    }
   ],
   "source": [
    "#Create scatterplots\n",
    "\n",
    "new_df.plot.scatter(x='age', y='annual_salary')"
   ]
  },
  {
   "cell_type": "code",
   "execution_count": 191,
   "metadata": {},
   "outputs": [
    {
     "data": {
      "text/plain": [
       "nan"
      ]
     },
     "execution_count": 191,
     "metadata": {},
     "output_type": "execute_result"
    }
   ],
   "source": [
    "#Find correlation\n",
    "\n",
    "thinkstats2.Corr(new_df.age,np.log(new_df.annual_salary))"
   ]
  },
  {
   "cell_type": "code",
   "execution_count": 192,
   "metadata": {},
   "outputs": [
    {
     "data": {
      "text/plain": [
       "<matplotlib.axes._subplots.AxesSubplot at 0x1d2ad1d1820>"
      ]
     },
     "execution_count": 192,
     "metadata": {},
     "output_type": "execute_result"
    },
    {
     "data": {
      "image/png": "[encoded data removed]",
      "text/plain": [
       "<Figure size 432x288 with 1 Axes>"
      ]
     },
     "metadata": {
      "needs_background": "light"
     },
     "output_type": "display_data"
    }
   ],
   "source": [
    "new_df.plot.scatter(x='war', y='annual_salary')"
   ]
  },
  {
   "cell_type": "code",
   "execution_count": 193,
   "metadata": {},
   "outputs": [
    {
     "data": {
      "text/plain": [
       "0.5295149402759264"
      ]
     },
     "execution_count": 193,
     "metadata": {},
     "output_type": "execute_result"
    }
   ],
   "source": [
    "#Find correlation\n",
    "\n",
    "thinkstats2.Corr(new_df.war,np.log(new_df.annual_salary))"
   ]
  },
  {
   "cell_type": "code",
   "execution_count": 197,
   "metadata": {},
   "outputs": [],
   "source": [
    "#Hypothesis Testing\n",
    "\n",
    "batting_avg=new_df['average']"
   ]
  },
  {
   "cell_type": "code",
   "execution_count": 198,
   "metadata": {},
   "outputs": [
    {
     "name": "stdout",
     "output_type": "stream",
     "text": [
      "Year\n",
      "2015    0.273\n",
      "2015    0.248\n",
      "2015    0.271\n",
      "2015    0.264\n",
      "2015    0.272\n",
      "2016    0.267\n",
      "2016    0.258\n",
      "2016    0.268\n",
      "2016    0.269\n",
      "2016    0.272\n",
      "2017    0.294\n",
      "2017    0.297\n",
      "2017    0.298\n",
      "2017    0.250\n",
      "2017    0.243\n",
      "2018    0.270\n",
      "2018    0.283\n",
      "2018    0.263\n",
      "2018    0.306\n",
      "2018    0.284\n",
      "2019    0.309\n",
      "2019    0.271\n",
      "2019    0.245\n",
      "2019    0.286\n",
      "2019    0.278\n",
      "Name: average, dtype: float64\n"
     ]
    }
   ],
   "source": [
    "print(batting_avg)"
   ]
  },
  {
   "cell_type": "code",
   "execution_count": 201,
   "metadata": {},
   "outputs": [
    {
     "name": "stdout",
     "output_type": "stream",
     "text": [
      "0.2735600000000001\n",
      " We are rejecting null hypothesis\n"
     ]
    }
   ],
   "source": [
    "batting_avg_mean = np.mean(batting_avg)\n",
    "print(batting_avg_mean)\n",
    "tset, pval = ttest_1samp(batting_avg, .300)\n",
    "if pval < 0.05:    # alpha value is 0.05 or 5%\n",
    "   print(\" We are rejecting null hypothesis\")\n",
    "else:\n",
    "  print(\"We are accepting null hypothesis\")"
   ]
  },
  {
   "cell_type": "code",
   "execution_count": 233,
   "metadata": {},
   "outputs": [],
   "source": [
    "#Regression analysis\n",
    "\n",
    "x= np.array([5,4,3,3,5,3,3,1,4,3,3,4,5,2,2,3,5,2,3,6,6,6,3,2,3\n",
    "])\n",
    "y= np.array([23,23,22,25,14,17,14,16,20,13,18,22,16,20,13,25,30,17,16,23,35,23,18,16,18\n",
    "])"
   ]
  },
  {
   "cell_type": "code",
   "execution_count": 234,
   "metadata": {},
   "outputs": [],
   "source": [
    "linreg= LinearRegression()"
   ]
  },
  {
   "cell_type": "code",
   "execution_count": 235,
   "metadata": {},
   "outputs": [],
   "source": [
    "x = x.reshape(-1, 1)"
   ]
  },
  {
   "cell_type": "code",
   "execution_count": 236,
   "metadata": {},
   "outputs": [
    {
     "data": {
      "text/plain": [
       "LinearRegression()"
      ]
     },
     "execution_count": 236,
     "metadata": {},
     "output_type": "execute_result"
    }
   ],
   "source": [
    "linreg.fit(x, y)"
   ]
  },
  {
   "cell_type": "code",
   "execution_count": 218,
   "metadata": {},
   "outputs": [],
   "source": [
    "y_pred = linreg.predict(x)"
   ]
  },
  {
   "cell_type": "code",
   "execution_count": 229,
   "metadata": {},
   "outputs": [
    {
     "data": {
      "image/png": "[encoded data removed]",
      "text/plain": [
       "<Figure size 432x288 with 1 Axes>"
      ]
     },
     "metadata": {
      "needs_background": "light"
     },
     "output_type": "display_data"
    }
   ],
   "source": [
    "#War vs Annual salary linear regression\n",
    "\n",
    "plt.scatter(x,y)\n",
    "plt.plot(x, y_pred,color = 'red')\n",
    "plt.show()"
   ]
  },
  {
   "cell_type": "code",
   "execution_count": 237,
   "metadata": {},
   "outputs": [],
   "source": [
    "x= np.array([13,42,24,24,14,13,22,21,38,14,23,35,13,25,32,29,36,24,14,37,28,36,25,25,30\n",
    "\n",
    "])\n",
    "y= np.array([23,23,22,25,14,17,14,16,20,13,18,22,16,20,13,25,30,17,16,23,35,23,18,16,18\n",
    "])"
   ]
  },
  {
   "cell_type": "code",
   "execution_count": 238,
   "metadata": {},
   "outputs": [],
   "source": [
    "linreg= LinearRegression()"
   ]
  },
  {
   "cell_type": "code",
   "execution_count": 239,
   "metadata": {},
   "outputs": [],
   "source": [
    "x = x.reshape(-1, 1)"
   ]
  },
  {
   "cell_type": "code",
   "execution_count": 240,
   "metadata": {},
   "outputs": [
    {
     "data": {
      "text/plain": [
       "LinearRegression()"
      ]
     },
     "execution_count": 240,
     "metadata": {},
     "output_type": "execute_result"
    }
   ],
   "source": [
    "linreg.fit(x, y)"
   ]
  },
  {
   "cell_type": "code",
   "execution_count": 241,
   "metadata": {},
   "outputs": [],
   "source": [
    "y_pred = linreg.predict(x)"
   ]
  },
  {
   "cell_type": "code",
   "execution_count": 242,
   "metadata": {},
   "outputs": [
    {
     "data": {
      "image/png": "[encoded data removed]",
      "text/plain": [
       "<Figure size 432x288 with 1 Axes>"
      ]
     },
     "metadata": {
      "needs_background": "light"
     },
     "output_type": "display_data"
    }
   ],
   "source": [
    "#HR vs Annual Salary linear regression\n",
    "plt.scatter(x,y)\n",
    "plt.plot(x, y_pred,color = 'red')\n",
    "plt.show()"
   ]
  },
  {
   "cell_type": "code",
   "execution_count": null,
   "metadata": {},
   "outputs": [],
   "source": []
  }
 ],
 "metadata": {
  "kernelspec": {
   "display_name": "Python 3",
   "language": "python",
   "name": "python3"
  },
  "language_info": {
   "codemirror_mode": {
    "name": "ipython",
    "version": 3
   },
   "file_extension": ".py",
   "mimetype": "text/x-python",
   "name": "python",
   "nbconvert_exporter": "python",
   "pygments_lexer": "ipython3",
   "version": "3.8.3"
  }
 },
 "nbformat": 4,
 "nbformat_minor": 4
}
